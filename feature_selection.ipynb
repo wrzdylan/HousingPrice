{
 "cells": [
  {
   "cell_type": "code",
   "execution_count": 2,
   "id": "98bbfaeb",
   "metadata": {
    "pycharm": {
     "name": "#%%\n"
    }
   },
   "outputs": [],
   "source": [
    "import warnings\n",
    "import pandas as pd\n",
    "import numpy as np\n",
    "import matplotlib.pyplot as plt\n",
    "import seaborn as sns\n",
    "from sklearn.model_selection import train_test_split\n",
    "\n",
    "# Set Matplotlib defaults\n",
    "plt.style.use(\"seaborn-whitegrid\")\n",
    "plt.rc(\"figure\", autolayout=True)\n",
    "plt.rc(\n",
    "    \"axes\",\n",
    "    labelweight=\"bold\",\n",
    "    labelsize=\"large\",\n",
    "    titleweight=\"bold\",\n",
    "    titlesize=14,\n",
    "    titlepad=10,\n",
    ")\n",
    "\n",
    "# Mute warnings\n",
    "warnings.filterwarnings('ignore')"
   ]
  },
  {
   "cell_type": "code",
   "execution_count": 46,
   "id": "a3e87fb0",
   "metadata": {
    "pycharm": {
     "name": "#%%\n"
    },
    "scrolled": false
   },
   "outputs": [
    {
     "data": {
      "text/html": [
       "<div>\n",
       "<style scoped>\n",
       "    .dataframe tbody tr th:only-of-type {\n",
       "        vertical-align: middle;\n",
       "    }\n",
       "\n",
       "    .dataframe tbody tr th {\n",
       "        vertical-align: top;\n",
       "    }\n",
       "\n",
       "    .dataframe thead th {\n",
       "        text-align: right;\n",
       "    }\n",
       "</style>\n",
       "<table border=\"1\" class=\"dataframe\">\n",
       "  <thead>\n",
       "    <tr style=\"text-align: right;\">\n",
       "      <th></th>\n",
       "      <th>LotFrontage</th>\n",
       "      <th>LotArea</th>\n",
       "      <th>LotShape</th>\n",
       "      <th>LandSlope</th>\n",
       "      <th>OverallQual</th>\n",
       "      <th>OverallCond</th>\n",
       "      <th>YearBuilt</th>\n",
       "      <th>YearRemodAdd</th>\n",
       "      <th>MasVnrArea</th>\n",
       "      <th>ExterQual</th>\n",
       "      <th>...</th>\n",
       "      <th>SaleType_ConLw</th>\n",
       "      <th>SaleType_New</th>\n",
       "      <th>SaleType_Oth</th>\n",
       "      <th>SaleType_WD</th>\n",
       "      <th>SaleCondition_Abnorml</th>\n",
       "      <th>SaleCondition_AdjLand</th>\n",
       "      <th>SaleCondition_Alloca</th>\n",
       "      <th>SaleCondition_Family</th>\n",
       "      <th>SaleCondition_Normal</th>\n",
       "      <th>SaleCondition_Partial</th>\n",
       "    </tr>\n",
       "  </thead>\n",
       "  <tbody>\n",
       "    <tr>\n",
       "      <th>0</th>\n",
       "      <td>65.0</td>\n",
       "      <td>33.911281</td>\n",
       "      <td>1.0</td>\n",
       "      <td>3.0</td>\n",
       "      <td>7</td>\n",
       "      <td>5</td>\n",
       "      <td>2003</td>\n",
       "      <td>2003</td>\n",
       "      <td>19.953123</td>\n",
       "      <td>4.0</td>\n",
       "      <td>...</td>\n",
       "      <td>0</td>\n",
       "      <td>0</td>\n",
       "      <td>0</td>\n",
       "      <td>1</td>\n",
       "      <td>0</td>\n",
       "      <td>0</td>\n",
       "      <td>0</td>\n",
       "      <td>0</td>\n",
       "      <td>1</td>\n",
       "      <td>0</td>\n",
       "    </tr>\n",
       "    <tr>\n",
       "      <th>1</th>\n",
       "      <td>80.0</td>\n",
       "      <td>35.130490</td>\n",
       "      <td>1.0</td>\n",
       "      <td>3.0</td>\n",
       "      <td>6</td>\n",
       "      <td>8</td>\n",
       "      <td>1976</td>\n",
       "      <td>1976</td>\n",
       "      <td>0.000000</td>\n",
       "      <td>3.0</td>\n",
       "      <td>...</td>\n",
       "      <td>0</td>\n",
       "      <td>0</td>\n",
       "      <td>0</td>\n",
       "      <td>1</td>\n",
       "      <td>0</td>\n",
       "      <td>0</td>\n",
       "      <td>0</td>\n",
       "      <td>0</td>\n",
       "      <td>1</td>\n",
       "      <td>0</td>\n",
       "    </tr>\n",
       "    <tr>\n",
       "      <th>2</th>\n",
       "      <td>68.0</td>\n",
       "      <td>36.700764</td>\n",
       "      <td>2.0</td>\n",
       "      <td>3.0</td>\n",
       "      <td>7</td>\n",
       "      <td>5</td>\n",
       "      <td>2001</td>\n",
       "      <td>2002</td>\n",
       "      <td>18.223314</td>\n",
       "      <td>4.0</td>\n",
       "      <td>...</td>\n",
       "      <td>0</td>\n",
       "      <td>0</td>\n",
       "      <td>0</td>\n",
       "      <td>1</td>\n",
       "      <td>0</td>\n",
       "      <td>0</td>\n",
       "      <td>0</td>\n",
       "      <td>0</td>\n",
       "      <td>1</td>\n",
       "      <td>0</td>\n",
       "    </tr>\n",
       "    <tr>\n",
       "      <th>3</th>\n",
       "      <td>60.0</td>\n",
       "      <td>35.079833</td>\n",
       "      <td>2.0</td>\n",
       "      <td>3.0</td>\n",
       "      <td>7</td>\n",
       "      <td>5</td>\n",
       "      <td>1915</td>\n",
       "      <td>1970</td>\n",
       "      <td>0.000000</td>\n",
       "      <td>3.0</td>\n",
       "      <td>...</td>\n",
       "      <td>0</td>\n",
       "      <td>0</td>\n",
       "      <td>0</td>\n",
       "      <td>1</td>\n",
       "      <td>1</td>\n",
       "      <td>0</td>\n",
       "      <td>0</td>\n",
       "      <td>0</td>\n",
       "      <td>0</td>\n",
       "      <td>0</td>\n",
       "    </tr>\n",
       "    <tr>\n",
       "      <th>4</th>\n",
       "      <td>84.0</td>\n",
       "      <td>39.166300</td>\n",
       "      <td>2.0</td>\n",
       "      <td>3.0</td>\n",
       "      <td>8</td>\n",
       "      <td>5</td>\n",
       "      <td>2000</td>\n",
       "      <td>2000</td>\n",
       "      <td>26.177215</td>\n",
       "      <td>4.0</td>\n",
       "      <td>...</td>\n",
       "      <td>0</td>\n",
       "      <td>0</td>\n",
       "      <td>0</td>\n",
       "      <td>1</td>\n",
       "      <td>0</td>\n",
       "      <td>0</td>\n",
       "      <td>0</td>\n",
       "      <td>0</td>\n",
       "      <td>1</td>\n",
       "      <td>0</td>\n",
       "    </tr>\n",
       "  </tbody>\n",
       "</table>\n",
       "<p>5 rows × 270 columns</p>\n",
       "</div>"
      ],
      "text/plain": [
       "   LotFrontage    LotArea  LotShape  LandSlope  OverallQual  OverallCond  \\\n",
       "0         65.0  33.911281       1.0        3.0            7            5   \n",
       "1         80.0  35.130490       1.0        3.0            6            8   \n",
       "2         68.0  36.700764       2.0        3.0            7            5   \n",
       "3         60.0  35.079833       2.0        3.0            7            5   \n",
       "4         84.0  39.166300       2.0        3.0            8            5   \n",
       "\n",
       "   YearBuilt  YearRemodAdd  MasVnrArea  ExterQual  ...  SaleType_ConLw  \\\n",
       "0       2003          2003   19.953123        4.0  ...               0   \n",
       "1       1976          1976    0.000000        3.0  ...               0   \n",
       "2       2001          2002   18.223314        4.0  ...               0   \n",
       "3       1915          1970    0.000000        3.0  ...               0   \n",
       "4       2000          2000   26.177215        4.0  ...               0   \n",
       "\n",
       "   SaleType_New  SaleType_Oth  SaleType_WD  SaleCondition_Abnorml  \\\n",
       "0             0             0            1                      0   \n",
       "1             0             0            1                      0   \n",
       "2             0             0            1                      0   \n",
       "3             0             0            1                      1   \n",
       "4             0             0            1                      0   \n",
       "\n",
       "   SaleCondition_AdjLand  SaleCondition_Alloca  SaleCondition_Family  \\\n",
       "0                      0                     0                     0   \n",
       "1                      0                     0                     0   \n",
       "2                      0                     0                     0   \n",
       "3                      0                     0                     0   \n",
       "4                      0                     0                     0   \n",
       "\n",
       "   SaleCondition_Normal  SaleCondition_Partial  \n",
       "0                     1                      0  \n",
       "1                     1                      0  \n",
       "2                     1                      0  \n",
       "3                     0                      0  \n",
       "4                     1                      0  \n",
       "\n",
       "[5 rows x 270 columns]"
      ]
     },
     "execution_count": 46,
     "metadata": {},
     "output_type": "execute_result"
    }
   ],
   "source": [
    "df = pd.read_feather('./dataset/cleaned_train.feather')\n",
    "df.head()"
   ]
  },
  {
   "cell_type": "code",
   "execution_count": 4,
   "id": "2f2c80ae",
   "metadata": {
    "pycharm": {
     "name": "#%%\n"
    },
    "scrolled": false
   },
   "outputs": [
    {
     "data": {
      "text/html": [
       "<div>\n",
       "<style scoped>\n",
       "    .dataframe tbody tr th:only-of-type {\n",
       "        vertical-align: middle;\n",
       "    }\n",
       "\n",
       "    .dataframe tbody tr th {\n",
       "        vertical-align: top;\n",
       "    }\n",
       "\n",
       "    .dataframe thead th {\n",
       "        text-align: right;\n",
       "    }\n",
       "</style>\n",
       "<table border=\"1\" class=\"dataframe\">\n",
       "  <thead>\n",
       "    <tr style=\"text-align: right;\">\n",
       "      <th></th>\n",
       "      <th>LotFrontage</th>\n",
       "      <th>LotArea</th>\n",
       "      <th>LotShape</th>\n",
       "      <th>LandSlope</th>\n",
       "      <th>OverallQual</th>\n",
       "      <th>OverallCond</th>\n",
       "      <th>YearBuilt</th>\n",
       "      <th>YearRemodAdd</th>\n",
       "      <th>MasVnrArea</th>\n",
       "      <th>ExterQual</th>\n",
       "      <th>...</th>\n",
       "      <th>SaleType_ConLw</th>\n",
       "      <th>SaleType_New</th>\n",
       "      <th>SaleType_Oth</th>\n",
       "      <th>SaleType_WD</th>\n",
       "      <th>SaleCondition_Abnorml</th>\n",
       "      <th>SaleCondition_AdjLand</th>\n",
       "      <th>SaleCondition_Alloca</th>\n",
       "      <th>SaleCondition_Family</th>\n",
       "      <th>SaleCondition_Normal</th>\n",
       "      <th>SaleCondition_Partial</th>\n",
       "    </tr>\n",
       "  </thead>\n",
       "  <tbody>\n",
       "  </tbody>\n",
       "</table>\n",
       "<p>0 rows × 270 columns</p>\n",
       "</div>"
      ],
      "text/plain": [
       "Empty DataFrame\n",
       "Columns: [LotFrontage, LotArea, LotShape, LandSlope, OverallQual, OverallCond, YearBuilt, YearRemodAdd, MasVnrArea, ExterQual, BsmtQual, BsmtCond, BsmtExposure, BsmtFinType1, BsmtFinSF1, BsmtFinType2, BsmtFinSF2, BsmtUnfSF, TotalBsmtSF, HeatingQC, CentralAir, 1stFlrSF, 2ndFlrSF, LowQualFinSF, GrLivArea, BsmtFullBath, BsmtHalfBath, FullBath, HalfBath, BedroomAbvGr, KitchenAbvGr, KitchenQual, TotRmsAbvGrd, Functional, Fireplaces, FireplaceQu, GarageYrBlt, GarageFinish, GarageCars, GarageArea, GarageQual, GarageCond, PavedDrive, WoodDeckSF, OpenPorchSF, EnclosedPorch, 3SsnPorch, ScreenPorch, PoolArea, PoolQC, Fence, MiscVal, SalePrice, TotalFlrSFAbvGrd, TotalSF, TotalSqrFootage, YrBltAndRemod, LivLotRatio, Spaciousness, TotalBath, TotalPorchSF, has_pool, has_2nd_floor, has_garage, has_bsmt, has_fireplace, MSSubClass_120, MSSubClass_160, MSSubClass_180, MSSubClass_190, MSSubClass_20, MSSubClass_30, MSSubClass_40, MSSubClass_45, MSSubClass_50, MSSubClass_60, MSSubClass_70, MSSubClass_75, MSSubClass_80, MSSubClass_85, MSSubClass_90, MSZoning_C (all), MSZoning_FV, MSZoning_RH, MSZoning_RL, MSZoning_RM, Street_Grvl, Street_Pave, Alley_Grvl, Alley_None, Alley_Pave, LandContour_Bnk, LandContour_HLS, LandContour_Low, LandContour_Lvl, LotConfig_Corner, LotConfig_CulDSac, LotConfig_FR2, LotConfig_FR3, LotConfig_Inside, ...]\n",
       "Index: []\n",
       "\n",
       "[0 rows x 270 columns]"
      ]
     },
     "execution_count": 4,
     "metadata": {},
     "output_type": "execute_result"
    }
   ],
   "source": [
    "df[df.isin([np.nan, -np.nan, np.inf, -np.inf]).any(1)]"
   ]
  },
  {
   "cell_type": "code",
   "execution_count": 5,
   "id": "196940e3",
   "metadata": {
    "pycharm": {
     "name": "#%%\n"
    }
   },
   "outputs": [],
   "source": [
    "df_target = df.pop(\"SalePrice\")"
   ]
  },
  {
   "cell_type": "code",
   "execution_count": 6,
   "id": "f401077c",
   "metadata": {
    "pycharm": {
     "name": "#%%\n"
    }
   },
   "outputs": [],
   "source": [
    "X_train, X_test, y_train, y_test = train_test_split(\n",
    "    df,\n",
    "    df_target,\n",
    "    test_size=0.3,\n",
    "    random_state=0\n",
    ")"
   ]
  },
  {
   "cell_type": "markdown",
   "id": "c45dab88",
   "metadata": {},
   "source": [
    "## Feature selection"
   ]
  },
  {
   "cell_type": "code",
   "execution_count": 9,
   "id": "58208715",
   "metadata": {},
   "outputs": [],
   "source": [
    "from sklearn.ensemble import RandomForestRegressor\n",
    "from sklearn.metrics import r2_score\n",
    "from sklearn.feature_selection import VarianceThreshold, mutual_info_regression, SelectKBest, f_regression\n",
    "from mlxtend.feature_selection import SequentialFeatureSelector as SFS"
   ]
  },
  {
   "cell_type": "markdown",
   "id": "cda55534",
   "metadata": {
    "pycharm": {
     "name": "#%% md\n"
    }
   },
   "source": [
    "### Constant features"
   ]
  },
  {
   "cell_type": "code",
   "execution_count": 82,
   "id": "44eda6a7",
   "metadata": {
    "pycharm": {
     "name": "#%%\n"
    },
    "scrolled": true
   },
   "outputs": [
    {
     "data": {
      "text/plain": [
       "VarianceThreshold(threshold=0.01)"
      ]
     },
     "execution_count": 82,
     "metadata": {},
     "output_type": "execute_result"
    }
   ],
   "source": [
    "sel = VarianceThreshold(threshold=0.01)\n",
    "sel.fit(df)"
   ]
  },
  {
   "cell_type": "code",
   "execution_count": 83,
   "id": "3b8c1ed3",
   "metadata": {
    "pycharm": {
     "name": "#%%\n"
    },
    "scrolled": true
   },
   "outputs": [
    {
     "name": "stdout",
     "output_type": "stream",
     "text": [
      "72\n"
     ]
    },
    {
     "data": {
      "text/plain": [
       "['KitchenAbvGr',\n",
       " 'has_pool',\n",
       " 'MSSubClass_180',\n",
       " 'MSSubClass_40',\n",
       " 'MSSubClass_45',\n",
       " 'MSZoning_C (all)',\n",
       " 'Street_Grvl',\n",
       " 'Street_Pave',\n",
       " 'LotConfig_FR3',\n",
       " 'LandSlope_Sev',\n",
       " 'Neighborhood_Blueste',\n",
       " 'Neighborhood_NPkVill',\n",
       " 'Neighborhood_Veenker',\n",
       " 'Condition1_PosA',\n",
       " 'Condition1_RRAe',\n",
       " 'Condition1_RRNe',\n",
       " 'Condition1_RRNn',\n",
       " 'Condition2_Artery',\n",
       " 'Condition2_Feedr',\n",
       " 'Condition2_PosA',\n",
       " 'Condition2_PosN',\n",
       " 'Condition2_RRAe',\n",
       " 'Condition2_RRAn',\n",
       " 'Condition2_RRNn',\n",
       " 'HouseStyle_1.5Unf',\n",
       " 'HouseStyle_2.5Fin',\n",
       " 'HouseStyle_2.5Unf',\n",
       " 'RoofStyle_Flat',\n",
       " 'RoofStyle_Gambrel',\n",
       " 'RoofStyle_Mansard',\n",
       " 'RoofStyle_Shed',\n",
       " 'RoofMatl_ClyTile',\n",
       " 'RoofMatl_Membran',\n",
       " 'RoofMatl_Metal',\n",
       " 'RoofMatl_Roll',\n",
       " 'RoofMatl_Tar&Grv',\n",
       " 'RoofMatl_WdShake',\n",
       " 'RoofMatl_WdShngl',\n",
       " 'Exterior1st_AsphShn',\n",
       " 'Exterior1st_BrkComm',\n",
       " 'Exterior1st_CBlock',\n",
       " 'Exterior1st_ImStucc',\n",
       " 'Exterior1st_Stone',\n",
       " 'Exterior2nd_AsphShn',\n",
       " 'Exterior2nd_Brk Cmn',\n",
       " 'Exterior2nd_CBlock',\n",
       " 'Exterior2nd_ImStucc',\n",
       " 'Exterior2nd_Other',\n",
       " 'Exterior2nd_Stone',\n",
       " 'ExterCond_Ex',\n",
       " 'ExterCond_Po',\n",
       " 'Foundation_Stone',\n",
       " 'Foundation_Wood',\n",
       " 'Heating_Floor',\n",
       " 'Heating_Grav',\n",
       " 'Heating_OthW',\n",
       " 'Heating_Wall',\n",
       " 'Electrical_FuseP',\n",
       " 'Electrical_Mix',\n",
       " 'GarageType_2Types',\n",
       " 'GarageType_CarPort',\n",
       " 'MiscFeature_Gar2',\n",
       " 'MiscFeature_Othr',\n",
       " 'MiscFeature_TenC',\n",
       " 'SaleType_CWD',\n",
       " 'SaleType_Con',\n",
       " 'SaleType_ConLD',\n",
       " 'SaleType_ConLI',\n",
       " 'SaleType_ConLw',\n",
       " 'SaleType_Oth',\n",
       " 'SaleCondition_AdjLand',\n",
       " 'SaleCondition_Alloca']"
      ]
     },
     "execution_count": 83,
     "metadata": {},
     "output_type": "execute_result"
    }
   ],
   "source": [
    "print(\n",
    "    len([\n",
    "        x for x in df.columns\n",
    "        if x not in df.columns[sel.get_support()]\n",
    "    ]))\n",
    "\n",
    "df_sel = [x for x in df.columns if x not in df.columns[sel.get_support()]]\n",
    "df_sel"
   ]
  },
  {
   "cell_type": "markdown",
   "id": "68260aef",
   "metadata": {
    "pycharm": {
     "name": "#%% md\n"
    }
   },
   "source": [
    "### Univariate features "
   ]
  },
  {
   "cell_type": "code",
   "execution_count": 85,
   "id": "28697be1",
   "metadata": {
    "pycharm": {
     "name": "#%%\n"
    }
   },
   "outputs": [
    {
     "data": {
      "text/plain": [
       "(1460, 10)"
      ]
     },
     "execution_count": 85,
     "metadata": {},
     "output_type": "execute_result"
    }
   ],
   "source": [
    "fs = SelectKBest(score_func=f_regression, k=10)\n",
    "df_fs = fs.fit_transform(df, df_target)\n",
    "df_fs.shape"
   ]
  },
  {
   "cell_type": "code",
   "execution_count": 86,
   "id": "82aca6eb",
   "metadata": {
    "pycharm": {
     "name": "#%%\n"
    },
    "scrolled": false
   },
   "outputs": [
    {
     "data": {
      "text/plain": [
       "array(['OverallQual', 'ExterQual', 'GrLivArea', 'KitchenQual',\n",
       "       'GarageCars', 'GarageArea', 'TotalFlrSFAbvGrd', 'TotalSF',\n",
       "       'TotalSqrFootage', 'TotalBath'], dtype=object)"
      ]
     },
     "execution_count": 86,
     "metadata": {},
     "output_type": "execute_result"
    }
   ],
   "source": [
    "fs.get_feature_names_out()"
   ]
  },
  {
   "cell_type": "markdown",
   "id": "f8433955",
   "metadata": {
    "pycharm": {
     "name": "#%% md\n"
    }
   },
   "source": [
    "### Forward selection"
   ]
  },
  {
   "cell_type": "code",
   "execution_count": 88,
   "id": "f3860ed3",
   "metadata": {
    "pycharm": {
     "name": "#%%\n"
    }
   },
   "outputs": [],
   "source": [
    "def correlation(dataset, threshold):\n",
    "    col_corr = set()  # Set of all the names of correlated columns\n",
    "    corr_matrix = dataset.corr()\n",
    "    for i in range(len(corr_matrix.columns)):\n",
    "        for j in range(i):\n",
    "            if abs(corr_matrix.iloc[i, j]) > threshold:  # we are interested in absolute coefficient value\n",
    "                col_name = corr_matrix.columns[i]  # getting the name of column\n",
    "                col_corr.add(col_name)\n",
    "    return col_corr\n",
    "\n",
    "corr_features = correlation(X_train, 0.75)\n",
    "\n",
    "df_corr = df.copy()\n",
    "df_corr.drop(labels=corr_features, axis=1, inplace=True)"
   ]
  },
  {
   "cell_type": "code",
   "execution_count": 89,
   "id": "0c9f805b",
   "metadata": {
    "pycharm": {
     "name": "#%%\n"
    }
   },
   "outputs": [
    {
     "name": "stderr",
     "output_type": "stream",
     "text": [
      "[Parallel(n_jobs=1)]: Using backend SequentialBackend with 1 concurrent workers.\n",
      "[Parallel(n_jobs=1)]: Done   1 out of   1 | elapsed:    0.5s remaining:    0.0s\n",
      "[Parallel(n_jobs=1)]: Done 216 out of 216 | elapsed:  1.3min finished\n",
      "\n",
      "[2022-08-22 12:30:22] Features: 1/10 -- score: 0.6656863847704312[Parallel(n_jobs=1)]: Using backend SequentialBackend with 1 concurrent workers.\n",
      "[Parallel(n_jobs=1)]: Done   1 out of   1 | elapsed:    0.5s remaining:    0.0s\n",
      "[Parallel(n_jobs=1)]: Done 215 out of 215 | elapsed:  1.4min finished\n",
      "\n",
      "[2022-08-22 12:31:46] Features: 2/10 -- score: 0.7320597605602371[Parallel(n_jobs=1)]: Using backend SequentialBackend with 1 concurrent workers.\n",
      "[Parallel(n_jobs=1)]: Done   1 out of   1 | elapsed:    0.6s remaining:    0.0s\n",
      "[Parallel(n_jobs=1)]: Done 214 out of 214 | elapsed:  1.6min finished\n",
      "\n",
      "[2022-08-22 12:33:20] Features: 3/10 -- score: 0.7567481072504142[Parallel(n_jobs=1)]: Using backend SequentialBackend with 1 concurrent workers.\n",
      "[Parallel(n_jobs=1)]: Done   1 out of   1 | elapsed:    0.8s remaining:    0.0s\n",
      "[Parallel(n_jobs=1)]: Done 213 out of 213 | elapsed:  2.4min finished\n",
      "\n",
      "[2022-08-22 12:35:42] Features: 4/10 -- score: 0.8156876083326696[Parallel(n_jobs=1)]: Using backend SequentialBackend with 1 concurrent workers.\n",
      "[Parallel(n_jobs=1)]: Done   1 out of   1 | elapsed:    0.9s remaining:    0.0s\n",
      "[Parallel(n_jobs=1)]: Done 212 out of 212 | elapsed:  2.8min finished\n",
      "\n",
      "[2022-08-22 12:38:32] Features: 5/10 -- score: 0.8349972508274072[Parallel(n_jobs=1)]: Using backend SequentialBackend with 1 concurrent workers.\n",
      "[Parallel(n_jobs=1)]: Done   1 out of   1 | elapsed:    1.0s remaining:    0.0s\n",
      "[Parallel(n_jobs=1)]: Done 211 out of 211 | elapsed:  3.2min finished\n",
      "\n",
      "[2022-08-22 12:41:45] Features: 6/10 -- score: 0.8458004802395966[Parallel(n_jobs=1)]: Using backend SequentialBackend with 1 concurrent workers.\n",
      "[Parallel(n_jobs=1)]: Done   1 out of   1 | elapsed:    1.0s remaining:    0.0s\n",
      "[Parallel(n_jobs=1)]: Done 210 out of 210 | elapsed:  3.4min finished\n",
      "\n",
      "[2022-08-22 12:45:06] Features: 7/10 -- score: 0.8552662938085379[Parallel(n_jobs=1)]: Using backend SequentialBackend with 1 concurrent workers.\n",
      "[Parallel(n_jobs=1)]: Done   1 out of   1 | elapsed:    1.1s remaining:    0.0s\n",
      "[Parallel(n_jobs=1)]: Done 209 out of 209 | elapsed:  3.5min finished\n",
      "\n",
      "[2022-08-22 12:48:35] Features: 8/10 -- score: 0.8590030641956612[Parallel(n_jobs=1)]: Using backend SequentialBackend with 1 concurrent workers.\n",
      "[Parallel(n_jobs=1)]: Done   1 out of   1 | elapsed:    1.2s remaining:    0.0s\n",
      "[Parallel(n_jobs=1)]: Done 208 out of 208 | elapsed:  3.8min finished\n",
      "\n",
      "[2022-08-22 12:52:25] Features: 9/10 -- score: 0.8639843876111227[Parallel(n_jobs=1)]: Using backend SequentialBackend with 1 concurrent workers.\n",
      "[Parallel(n_jobs=1)]: Done   1 out of   1 | elapsed:    1.2s remaining:    0.0s\n",
      "[Parallel(n_jobs=1)]: Done 207 out of 207 | elapsed:  4.3min finished\n",
      "\n",
      "[2022-08-22 12:56:43] Features: 10/10 -- score: 0.8663671223501154"
     ]
    }
   ],
   "source": [
    "from mlxtend.feature_selection import SequentialFeatureSelector as SFS\n",
    "\n",
    "sfs1 = SFS(RandomForestRegressor(), \n",
    "           k_features=10, \n",
    "           forward=True, \n",
    "           floating=False, \n",
    "           verbose=2,\n",
    "           scoring='r2',\n",
    "           cv=3)\n",
    "\n",
    "sfs1 = sfs1.fit(np.array(df_corr), df_target)"
   ]
  },
  {
   "cell_type": "code",
   "execution_count": 90,
   "id": "8d132321",
   "metadata": {
    "pycharm": {
     "name": "#%%\n"
    }
   },
   "outputs": [
    {
     "data": {
      "text/plain": [
       "(3, 4, 5, 15, 19, 28, 29, 42, 61, 144)"
      ]
     },
     "execution_count": 90,
     "metadata": {},
     "output_type": "execute_result"
    }
   ],
   "source": [
    "sfs1.k_feature_idx_"
   ]
  },
  {
   "cell_type": "code",
   "execution_count": 91,
   "id": "fc615deb",
   "metadata": {
    "pycharm": {
     "name": "#%%\n"
    },
    "scrolled": true
   },
   "outputs": [
    {
     "data": {
      "text/plain": [
       "Index(['OverallQual', 'OverallCond', 'YearBuilt', 'BsmtFinSF2', '1stFlrSF',\n",
       "       'KitchenAbvGr', 'KitchenQual', 'EnclosedPorch', 'has_fireplace',\n",
       "       'BldgType_Twnhs'],\n",
       "      dtype='object')"
      ]
     },
     "execution_count": 91,
     "metadata": {},
     "output_type": "execute_result"
    }
   ],
   "source": [
    "df.columns[list(sfs1.k_feature_idx_)]"
   ]
  },
  {
   "cell_type": "markdown",
   "id": "cd6338d9",
   "metadata": {
    "pycharm": {
     "name": "#%% md\n"
    }
   },
   "source": [
    "### Feature Utility Scores"
   ]
  },
  {
   "cell_type": "code",
   "execution_count": 10,
   "id": "91703529",
   "metadata": {
    "pycharm": {
     "name": "#%%\n"
    }
   },
   "outputs": [],
   "source": [
    "def make_mi_scores(X, y):\n",
    "#     discrete_features = [pd.api.types.is_integer_dtype(t) for t in X.dtypes]\n",
    "    mi_scores = mutual_info_regression(X, y, random_state=0)\n",
    "    mi_scores = pd.Series(mi_scores, name=\"MI Scores\", index=X.columns)\n",
    "    mi_scores = mi_scores.sort_values(ascending=False)\n",
    "    return mi_scores\n",
    "\n",
    "\n",
    "def plot_mi_scores(scores):\n",
    "    scores = scores.sort_values(ascending=True)\n",
    "    width = np.arange(len(scores))\n",
    "    ticks = list(scores.index)\n",
    "    plt.barh(width, scores)\n",
    "    plt.yticks(width, ticks)\n",
    "    plt.title(\"Mutual Information Scores\")\n",
    "    \n",
    "    \n",
    "def drop_uninformative(df, mi_scores):\n",
    "    return df.loc[:, mi_scores > 0.0]"
   ]
  },
  {
   "cell_type": "code",
   "execution_count": 11,
   "id": "70819425",
   "metadata": {
    "pycharm": {
     "name": "#%%\n"
    },
    "scrolled": true
   },
   "outputs": [
    {
     "data": {
      "text/plain": [
       "TotalSF                0.662060\n",
       "OverallQual            0.529535\n",
       "TotalFlrSFAbvGrd       0.503045\n",
       "GrLivArea              0.479216\n",
       "TotalSqrFootage        0.462216\n",
       "                         ...   \n",
       "Exterior2nd_Other      0.000000\n",
       "Exterior2nd_ImStucc    0.000000\n",
       "Exterior2nd_CBlock     0.000000\n",
       "Exterior2nd_BrkFace    0.000000\n",
       "RoofStyle_Shed         0.000000\n",
       "Name: MI Scores, Length: 269, dtype: float64"
      ]
     },
     "execution_count": 11,
     "metadata": {},
     "output_type": "execute_result"
    }
   ],
   "source": [
    "mi_scores = make_mi_scores(X_train, y_train)\n",
    "mi_scores"
   ]
  },
  {
   "cell_type": "code",
   "execution_count": 12,
   "id": "d42cc87f",
   "metadata": {
    "pycharm": {
     "name": "#%%\n"
    },
    "scrolled": true
   },
   "outputs": [],
   "source": [
    "X_train = drop_uninformative(X_train, mi_scores)\n",
    "X_test = drop_uninformative(X_test, mi_scores)"
   ]
  },
  {
   "cell_type": "markdown",
   "id": "2c861369",
   "metadata": {
    "pycharm": {
     "name": "#%% md\n"
    }
   },
   "source": [
    "## Model"
   ]
  },
  {
   "cell_type": "code",
   "execution_count": 33,
   "id": "4e301e95",
   "metadata": {},
   "outputs": [],
   "source": [
    "import optuna\n",
    "from sklearn.model_selection import KFold, cross_val_score\n",
    "from sklearn.metrics import make_scorer, mean_squared_error\n",
    "from sklearn.linear_model import LinearRegression, RidgeCV, LassoCV\n",
    "from xgboost import XGBRegressor"
   ]
  },
  {
   "cell_type": "markdown",
   "id": "3422e58d",
   "metadata": {
    "pycharm": {
     "name": "#%% md\n"
    }
   },
   "source": [
    "### Cross-Validation"
   ]
  },
  {
   "cell_type": "code",
   "execution_count": 14,
   "id": "4992d2f2",
   "metadata": {
    "pycharm": {
     "name": "#%%\n"
    }
   },
   "outputs": [],
   "source": [
    "n_folds = 5\n",
    "\n",
    "scorer = make_scorer(mean_squared_error, greater_is_better=False)\n",
    "def rmse_CV(model, X, y):\n",
    "    kf = KFold(n_folds, shuffle=True, random_state=42).get_n_splits(df.values)\n",
    "    rmse = np.sqrt(-cross_val_score(model, X, y, scoring =\"neg_mean_squared_error\", cv=kf))\n",
    "    return (rmse)"
   ]
  },
  {
   "cell_type": "markdown",
   "id": "6b8bfd5f",
   "metadata": {
    "pycharm": {
     "name": "#%% md\n"
    }
   },
   "source": [
    "We are checking how model is performing on our own data\n",
    "\n",
    "What is the difference between test data and validation data"
   ]
  },
  {
   "cell_type": "markdown",
   "id": "5b20b757",
   "metadata": {
    "pycharm": {
     "name": "#%% md\n"
    }
   },
   "source": [
    "### Linear Regression"
   ]
  },
  {
   "cell_type": "code",
   "execution_count": 95,
   "id": "dde23935",
   "metadata": {
    "pycharm": {
     "name": "#%%\n"
    }
   },
   "outputs": [
    {
     "name": "stdout",
     "output_type": "stream",
     "text": [
      "rmse on train 0.13969374917591115\n",
      "rmse on test 0.17693633566274897\n"
     ]
    }
   ],
   "source": [
    "lr = LinearRegression()\n",
    "lr.fit(X_train, y_train)\n",
    "\n",
    "train_lr = lr.predict(X_train)\n",
    "test_lr = lr.predict(X_test)\n",
    "\n",
    "print('rmse on train', rmse_CV(lr, X_train, y_train).mean())\n",
    "print('rmse on test', rmse_CV(lr, X_test, y_test).mean())"
   ]
  },
  {
   "cell_type": "code",
   "execution_count": 96,
   "id": "5306986e",
   "metadata": {
    "pycharm": {
     "name": "#%%\n"
    }
   },
   "outputs": [
    {
     "data": {
      "image/png": "[encoded data removed]",
      "text/plain": [
       "<Figure size 432x288 with 1 Axes>"
      ]
     },
     "metadata": {
      "needs_background": "light"
     },
     "output_type": "display_data"
    }
   ],
   "source": [
    "#plot between predicted values and residuals\n",
    "plt.scatter(train_lr, train_lr - y_train, c=\"blue\",  label=\"Training data\")\n",
    "plt.scatter(test_lr, test_lr - y_test, c=\"green\",  label=\"Validation data\")\n",
    "\n",
    "plt.title(\"Linear regression\")\n",
    "plt.xlabel(\"Predicted values\")\n",
    "plt.ylabel(\"Residuals\")\n",
    "plt.legend(loc=\"upper left\")\n",
    "plt.hlines(y=0, xmin=10.5, xmax=13.5, color=\"red\")\n",
    "plt.show()"
   ]
  },
  {
   "cell_type": "markdown",
   "id": "54e75e75",
   "metadata": {
    "pycharm": {
     "name": "#%% md\n"
    }
   },
   "source": [
    "Les points residuelles sont dispersés de manière **random** autour de l'axe horizontal, on peut utiliser un modèle linéaire."
   ]
  },
  {
   "cell_type": "code",
   "execution_count": 97,
   "id": "4c119341",
   "metadata": {
    "pycharm": {
     "name": "#%%\n"
    }
   },
   "outputs": [
    {
     "data": {
      "image/png": "[encoded data removed]",
      "text/plain": [
       "<Figure size 432x288 with 1 Axes>"
      ]
     },
     "metadata": {
      "needs_background": "light"
     },
     "output_type": "display_data"
    }
   ],
   "source": [
    "# Plot predictions - Real values\n",
    "plt.scatter(train_lr, y_train, c=\"blue\",  label=\"Training data\")\n",
    "plt.scatter(test_lr, y_test, c=\"green\",  label=\"Validation data\")\n",
    "\n",
    "plt.title(\"Linear regression\")\n",
    "plt.xlabel(\"Predicted values\")\n",
    "plt.ylabel(\"Real values\")\n",
    "plt.legend(loc=\"upper left\")\n",
    "plt.plot([10.5, 13.5], [10.5, 13.5], c=\"red\")\n",
    "plt.show()"
   ]
  },
  {
   "cell_type": "markdown",
   "id": "2a188c94",
   "metadata": {
    "pycharm": {
     "name": "#%% md\n"
    }
   },
   "source": [
    "Regularization is a very useful method to handle collinearity, filter out noise from data, and eventually prevent overfitting.\n",
    "\n",
    "The concept behind regularization is to introduce additional information (bias) to penalize extreme parameter weights.\n",
    "\n",
    "Ridge and Lasso Regression are types of Regularization techniques"
   ]
  },
  {
   "cell_type": "markdown",
   "id": "96259481",
   "metadata": {
    "pycharm": {
     "name": "#%% md\n"
    }
   },
   "source": [
    "### Ridge Regression"
   ]
  },
  {
   "cell_type": "code",
   "execution_count": 98,
   "id": "d9dd17d2",
   "metadata": {
    "pycharm": {
     "name": "#%%\n"
    }
   },
   "outputs": [
    {
     "name": "stdout",
     "output_type": "stream",
     "text": [
      "best alpha 6.0\n",
      "Try again for more precision with alphas centered around 6.0\n",
      "Best alpha : 8.399999999999999\n",
      "Ridge RMSE on Training set : 0.1287960980473361\n",
      "Ridge RMSE on Test set : 0.1357041618093888\n"
     ]
    }
   ],
   "source": [
    "ridge = RidgeCV(alphas=[0.01, 0.03, 0.06, 0.1, 0.3, 0.6, 1, 3, 6, 10, 30, 60])\n",
    "ridge.fit(X_train, y_train)\n",
    "alpha = ridge.alpha_\n",
    "\n",
    "print('best alpha', alpha)\n",
    "\n",
    "print(\"Try again for more precision with alphas centered around \" + str(alpha))\n",
    "\n",
    "ridge = RidgeCV(alphas=[alpha * .6, alpha * .65, alpha * .7, alpha * .75, alpha * .8, alpha * .85, \n",
    "                          alpha * .9, alpha * .95, alpha, alpha * 1.05, alpha * 1.1, alpha * 1.15,\n",
    "                          alpha * 1.25, alpha * 1.3, alpha * 1.35, alpha * 1.4], cv=5)\n",
    "ridge.fit(X_train, y_train)\n",
    "alpha = ridge.alpha_\n",
    "\n",
    "print(\"Best alpha :\", alpha)\n",
    "print(\"Ridge RMSE on Training set :\", rmse_CV(ridge, X_train, y_train).mean())\n",
    "print(\"Ridge RMSE on Test set :\", rmse_CV(ridge, X_test, y_test).mean())\n",
    "\n",
    "y_train_rdg = ridge.predict(X_train)\n",
    "y_test_rdg = ridge.predict(X_test)"
   ]
  },
  {
   "cell_type": "code",
   "execution_count": 117,
   "id": "5d82c652",
   "metadata": {
    "pycharm": {
     "name": "#%%\n"
    }
   },
   "outputs": [
    {
     "name": "stdout",
     "output_type": "stream",
     "text": [
      "Ridge picked 268 variables and eliminated the other 6 variables\n"
     ]
    }
   ],
   "source": [
    "coef_rdg = pd.Series(ridge.coef_, index=X_train.columns)\n",
    "\n",
    "print(\"Ridge picked \" + str(sum(coef_rdg != 0)) + \" variables and eliminated the other \" +  str(sum(coef_rdg == 0)) + \" variables\")"
   ]
  },
  {
   "cell_type": "code",
   "execution_count": 100,
   "id": "4366ee9f",
   "metadata": {
    "pycharm": {
     "name": "#%%\n"
    }
   },
   "outputs": [
    {
     "data": {
      "image/png": "[encoded data removed]",
      "text/plain": [
       "<Figure size 432x288 with 1 Axes>"
      ]
     },
     "metadata": {
      "needs_background": "light"
     },
     "output_type": "display_data"
    }
   ],
   "source": [
    "# Plot residuals\n",
    "plt.scatter(y_train_rdg, y_train_rdg - y_train, c=\"blue\",  label=\"Training data\")\n",
    "plt.scatter(y_test_rdg, y_test_rdg - y_test, c=\"green\", marker=\"v\", label=\"Validation data\")\n",
    "\n",
    "plt.title(\"Linear regression with Ridge regularization\")\n",
    "plt.xlabel(\"Predicted values\")\n",
    "plt.ylabel(\"Residuals\")\n",
    "plt.legend(loc=\"upper left\")\n",
    "plt.hlines(y=0, xmin=10.5, xmax=13.5, color=\"red\")\n",
    "plt.show()"
   ]
  },
  {
   "cell_type": "code",
   "execution_count": 101,
   "id": "d3b1d952",
   "metadata": {
    "pycharm": {
     "name": "#%%\n"
    }
   },
   "outputs": [
    {
     "data": {
      "image/png": "[encoded data removed]",
      "text/plain": [
       "<Figure size 432x288 with 1 Axes>"
      ]
     },
     "metadata": {
      "needs_background": "light"
     },
     "output_type": "display_data"
    }
   ],
   "source": [
    "# Plot predictions - Real values\n",
    "plt.scatter(y_train_rdg, y_train, c=\"blue\", label=\"Training data\")\n",
    "plt.scatter(y_test_rdg, y_test, c=\"green\", label=\"Validation data\")\n",
    "\n",
    "plt.title(\"Linear regression with Ridge regularization\")\n",
    "plt.xlabel(\"Predicted values\")\n",
    "plt.ylabel(\"Real values\")\n",
    "plt.legend(loc=\"upper left\")\n",
    "plt.plot([10.5, 13.5], [10.5, 13.5], c=\"red\")\n",
    "plt.show()"
   ]
  },
  {
   "cell_type": "markdown",
   "id": "26b05644",
   "metadata": {
    "pycharm": {
     "name": "#%% md\n"
    }
   },
   "source": [
    "### LASSO Regression"
   ]
  },
  {
   "cell_type": "code",
   "execution_count": 102,
   "id": "7977200f",
   "metadata": {
    "pycharm": {
     "name": "#%%\n"
    }
   },
   "outputs": [],
   "source": [
    "# X_train_const = X_train.loc[:, ~X_train.columns.isin(df_sel)]\n",
    "# X_test_const = X_test.loc[:, ~X_test.columns.isin(df_sel)]"
   ]
  },
  {
   "cell_type": "code",
   "execution_count": 29,
   "id": "8a95d43f",
   "metadata": {
    "pycharm": {
     "name": "#%%\n"
    }
   },
   "outputs": [
    {
     "name": "stdout",
     "output_type": "stream",
     "text": [
      "Lasso RMSE on Training set : 0.12514870898993977\n",
      "Lasso RMSE on Test set : 0.14414525133984712\n"
     ]
    }
   ],
   "source": [
    "lasso = LassoCV(alphas = [1, 0.1, 0.001, 0.0005]).fit(X_train, y_train)\n",
    "\n",
    "print(\"Lasso RMSE on Training set :\", rmse_CV(lasso, X_train, y_train).mean())\n",
    "print(\"Lasso RMSE on Test set :\", rmse_CV(lasso, X_test, y_test).mean())"
   ]
  },
  {
   "cell_type": "code",
   "execution_count": 18,
   "id": "04c8a863",
   "metadata": {
    "pycharm": {
     "name": "#%%\n"
    }
   },
   "outputs": [
    {
     "name": "stdout",
     "output_type": "stream",
     "text": [
      "Lasso picked 104 variables and eliminated the other 111 variables\n"
     ]
    }
   ],
   "source": [
    "coef_lasso = pd.Series(lasso.coef_, index=X_train.columns)\n",
    "\n",
    "print(\"Lasso picked \" + str(sum(coef_lasso != 0)) + \" variables and eliminated the other \" +  str(sum(coef_lasso == 0)) + \" variables\")"
   ]
  },
  {
   "cell_type": "code",
   "execution_count": 22,
   "id": "87c48a44",
   "metadata": {
    "pycharm": {
     "name": "#%%\n"
    }
   },
   "outputs": [],
   "source": [
    "imp_coef = pd.concat([coef_lasso.sort_values().head(10),\n",
    "                     coef_lasso.sort_values().tail(10)])"
   ]
  },
  {
   "cell_type": "code",
   "execution_count": 23,
   "id": "4664ebb9",
   "metadata": {
    "pycharm": {
     "name": "#%%\n"
    },
    "scrolled": true
   },
   "outputs": [
    {
     "data": {
      "image/png": "[encoded data removed]",
      "text/plain": [
       "<Figure size 720x720 with 1 Axes>"
      ]
     },
     "metadata": {
      "needs_background": "light"
     },
     "output_type": "display_data"
    }
   ],
   "source": [
    "plt.figure(figsize=(10,10))\n",
    "imp_coef.plot(kind = \"barh\")\n",
    "plt.title(\"Coefficients in the Lasso Model\");"
   ]
  },
  {
   "cell_type": "markdown",
   "id": "10b7415b",
   "metadata": {
    "pycharm": {
     "name": "#%% md\n"
    }
   },
   "source": [
    "Pour les coeffs négatifs, voir unbalanced categorical variables"
   ]
  },
  {
   "cell_type": "code",
   "execution_count": 24,
   "id": "d028818f",
   "metadata": {
    "pycharm": {
     "name": "#%%\n"
    }
   },
   "outputs": [],
   "source": [
    "pred_train_lasso = lasso.predict(X_train)\n",
    "pred_test_lasso = lasso.predict(X_test)"
   ]
  },
  {
   "cell_type": "code",
   "execution_count": 25,
   "id": "c3653755",
   "metadata": {
    "pycharm": {
     "name": "#%%\n"
    },
    "scrolled": true
   },
   "outputs": [
    {
     "data": {
      "image/png": "[encoded data removed]",
      "text/plain": [
       "<Figure size 432x288 with 1 Axes>"
      ]
     },
     "metadata": {
      "needs_background": "light"
     },
     "output_type": "display_data"
    }
   ],
   "source": [
    "# Plot residuals\n",
    "plt.scatter(pred_train_lasso, pred_train_lasso - y_train, c=\"blue\",  label=\"Training data\")\n",
    "plt.scatter(pred_test_lasso, pred_test_lasso - y_test, c=\"green\", marker=\"v\", label=\"Validation data\")\n",
    "\n",
    "plt.title(\"Linear regression with Lasso regularization\")\n",
    "plt.xlabel(\"Predicted values\")\n",
    "plt.ylabel(\"Residuals\")\n",
    "plt.legend(loc=\"upper left\")\n",
    "plt.hlines(y=0, xmin=10.5, xmax=13.5, color=\"red\")\n",
    "plt.show()"
   ]
  },
  {
   "cell_type": "code",
   "execution_count": 26,
   "id": "c23f2d47",
   "metadata": {
    "pycharm": {
     "name": "#%%\n"
    },
    "scrolled": false
   },
   "outputs": [
    {
     "data": {
      "image/png": "[encoded data removed]",
      "text/plain": [
       "<Figure size 432x288 with 1 Axes>"
      ]
     },
     "metadata": {
      "needs_background": "light"
     },
     "output_type": "display_data"
    }
   ],
   "source": [
    "# Plot predictions - Real values\n",
    "plt.scatter(pred_train_lasso, y_train, c=\"blue\", label=\"Training data\")\n",
    "plt.scatter(pred_test_lasso, y_test, c=\"green\", label=\"Validation data\")\n",
    "\n",
    "plt.title(\"Linear regression with Lasso regularization\")\n",
    "plt.xlabel(\"Predicted values\")\n",
    "plt.ylabel(\"Real values\")\n",
    "plt.legend(loc=\"upper left\")\n",
    "plt.plot([10.5, 13.5], [10.5, 13.5], c=\"red\")\n",
    "plt.show()"
   ]
  },
  {
   "cell_type": "markdown",
   "id": "7162274c",
   "metadata": {
    "pycharm": {
     "name": "#%% md\n"
    }
   },
   "source": [
    "### XGBoost"
   ]
  },
  {
   "cell_type": "code",
   "execution_count": 34,
   "id": "7a26d4e1",
   "metadata": {
    "pycharm": {
     "name": "#%%\n"
    }
   },
   "outputs": [
    {
     "name": "stderr",
     "output_type": "stream",
     "text": [
      "\u001b[32m[I 2022-08-23 06:44:03,235]\u001b[0m A new study created in memory with name: no-name-78517158-fe3a-41cb-af45-a78c39db3e95\u001b[0m\n",
      "\u001b[32m[I 2022-08-23 06:44:54,687]\u001b[0m Trial 0 finished with value: 6.709527350828194 and parameters: {'max_depth': 9, 'learning_rate': 0.0002257509874644517, 'n_estimators': 2412, 'min_child_weight': 5, 'colsample_bytree': 0.8368637047384138, 'subsample': 0.8351366343499234, 'reg_alpha': 0.001214338505022739, 'reg_lambda': 2.5511913508102926}. Best is trial 0 with value: 6.709527350828194.\u001b[0m\n",
      "\u001b[32m[I 2022-08-23 06:46:09,037]\u001b[0m Trial 1 finished with value: 5.768692269796224 and parameters: {'max_depth': 5, 'learning_rate': 0.0001847860787490196, 'n_estimators': 3824, 'min_child_weight': 3, 'colsample_bytree': 0.7853882096518443, 'subsample': 0.8046377671504503, 'reg_alpha': 64.06743570352089, 'reg_lambda': 3.6060000167868833}. Best is trial 1 with value: 5.768692269796224.\u001b[0m\n",
      "\u001b[32m[I 2022-08-23 06:47:32,098]\u001b[0m Trial 2 finished with value: 0.12102693170685266 and parameters: {'max_depth': 6, 'learning_rate': 0.00776803497888955, 'n_estimators': 3350, 'min_child_weight': 4, 'colsample_bytree': 0.21262830121787088, 'subsample': 0.5439046324582707, 'reg_alpha': 0.9993772156392787, 'reg_lambda': 0.09939094282946781}. Best is trial 2 with value: 0.12102693170685266.\u001b[0m\n",
      "\u001b[32m[I 2022-08-23 06:50:06,818]\u001b[0m Trial 3 finished with value: 0.12868489527240098 and parameters: {'max_depth': 6, 'learning_rate': 0.09538359805142245, 'n_estimators': 6424, 'min_child_weight': 5, 'colsample_bytree': 0.7375548425565024, 'subsample': 0.460918411651449, 'reg_alpha': 0.004505975801843431, 'reg_lambda': 0.013386368059762684}. Best is trial 2 with value: 0.12102693170685266.\u001b[0m\n",
      "\u001b[32m[I 2022-08-23 06:52:48,358]\u001b[0m Trial 4 finished with value: 0.13359432822892509 and parameters: {'max_depth': 4, 'learning_rate': 0.0009624362404884795, 'n_estimators': 6425, 'min_child_weight': 7, 'colsample_bytree': 0.7483283546919905, 'subsample': 0.3220360971926337, 'reg_alpha': 0.40213336996034005, 'reg_lambda': 0.0009212139805907438}. Best is trial 2 with value: 0.12102693170685266.\u001b[0m\n",
      "\u001b[32m[I 2022-08-23 06:53:39,169]\u001b[0m Trial 5 finished with value: 5.994690277863445 and parameters: {'max_depth': 4, 'learning_rate': 0.00029501179562843133, 'n_estimators': 2221, 'min_child_weight': 10, 'colsample_bytree': 0.7640780419322708, 'subsample': 0.6257028202262425, 'reg_alpha': 0.00946827391922497, 'reg_lambda': 0.20560038995775012}. Best is trial 2 with value: 0.12102693170685266.\u001b[0m\n",
      "\u001b[32m[I 2022-08-23 06:55:28,161]\u001b[0m Trial 6 finished with value: 0.42163984169027807 and parameters: {'max_depth': 10, 'learning_rate': 0.0008327799571995567, 'n_estimators': 5455, 'min_child_weight': 10, 'colsample_bytree': 0.7678644667438779, 'subsample': 0.2915560677294871, 'reg_alpha': 36.662878420576995, 'reg_lambda': 0.00015428049348639055}. Best is trial 2 with value: 0.12102693170685266.\u001b[0m\n",
      "\u001b[32m[I 2022-08-23 06:59:06,950]\u001b[0m Trial 7 finished with value: 0.8889982617005636 and parameters: {'max_depth': 10, 'learning_rate': 0.0003856792782977577, 'n_estimators': 6674, 'min_child_weight': 9, 'colsample_bytree': 0.5705648981157434, 'subsample': 0.5729973043964992, 'reg_alpha': 0.00012845418810468345, 'reg_lambda': 0.026292416861656634}. Best is trial 2 with value: 0.12102693170685266.\u001b[0m\n",
      "\u001b[32m[I 2022-08-23 07:02:18,909]\u001b[0m Trial 8 finished with value: 0.12373500378205238 and parameters: {'max_depth': 4, 'learning_rate': 0.0022546599193891716, 'n_estimators': 7320, 'min_child_weight': 7, 'colsample_bytree': 0.8359636612011705, 'subsample': 0.2671132947522396, 'reg_alpha': 0.002098590864128105, 'reg_lambda': 13.044709775473333}. Best is trial 2 with value: 0.12102693170685266.\u001b[0m\n",
      "\u001b[32m[I 2022-08-23 07:04:45,429]\u001b[0m Trial 9 finished with value: 0.12378317532729859 and parameters: {'max_depth': 6, 'learning_rate': 0.017088238071953973, 'n_estimators': 3646, 'min_child_weight': 5, 'colsample_bytree': 0.8654750184036251, 'subsample': 0.5228892213510641, 'reg_alpha': 0.20546710016275105, 'reg_lambda': 0.01766472219641394}. Best is trial 2 with value: 0.12102693170685266.\u001b[0m\n",
      "\u001b[32m[I 2022-08-23 07:05:09,477]\u001b[0m Trial 10 finished with value: 0.14251902317269455 and parameters: {'max_depth': 2, 'learning_rate': 0.009745223988499651, 'n_estimators': 1339, 'min_child_weight': 1, 'colsample_bytree': 0.20106154580421765, 'subsample': 0.9749800833151043, 'reg_alpha': 2.804526725972786, 'reg_lambda': 71.89370589719219}. Best is trial 2 with value: 0.12102693170685266.\u001b[0m\n",
      "\u001b[32m[I 2022-08-23 07:08:30,594]\u001b[0m Trial 11 finished with value: 0.12417026266895075 and parameters: {'max_depth': 8, 'learning_rate': 0.004044799849549557, 'n_estimators': 7815, 'min_child_weight': 7, 'colsample_bytree': 0.20870395083653798, 'subsample': 0.3813897520637509, 'reg_alpha': 0.02368058391666461, 'reg_lambda': 0.5833694397035484}. Best is trial 2 with value: 0.12102693170685266.\u001b[0m\n",
      "\u001b[32m[I 2022-08-23 07:10:01,532]\u001b[0m Trial 12 finished with value: 0.1542654691904441 and parameters: {'max_depth': 2, 'learning_rate': 0.003150934888963628, 'n_estimators': 4936, 'min_child_weight': 3, 'colsample_bytree': 0.4428704209659706, 'subsample': 0.22532703151064487, 'reg_alpha': 2.3996048582288725, 'reg_lambda': 51.37338045491246}. Best is trial 2 with value: 0.12102693170685266.\u001b[0m\n",
      "\u001b[32m[I 2022-08-23 07:12:35,644]\u001b[0m Trial 13 finished with value: 0.12403037891949584 and parameters: {'max_depth': 7, 'learning_rate': 0.029512120427793612, 'n_estimators': 3639, 'min_child_weight': 7, 'colsample_bytree': 0.9687164575607367, 'subsample': 0.7154033127351639, 'reg_alpha': 0.00017342101141993948, 'reg_lambda': 3.6858127783047}. Best is trial 2 with value: 0.12102693170685266.\u001b[0m\n",
      "\u001b[32m[I 2022-08-23 07:13:43,843]\u001b[0m Trial 14 finished with value: 0.12026669672571733 and parameters: {'max_depth': 4, 'learning_rate': 0.0033024941470630623, 'n_estimators': 2811, 'min_child_weight': 3, 'colsample_bytree': 0.4333011292283209, 'subsample': 0.43107333086047006, 'reg_alpha': 0.05383523244183418, 'reg_lambda': 0.10234808056114707}. Best is trial 14 with value: 0.12026669672571733.\u001b[0m\n",
      "\u001b[32m[I 2022-08-23 07:14:40,946]\u001b[0m Trial 15 finished with value: 0.12000397912432854 and parameters: {'max_depth': 3, 'learning_rate': 0.007560918856043914, 'n_estimators': 2579, 'min_child_weight': 3, 'colsample_bytree': 0.35687496619715614, 'subsample': 0.4486606801846602, 'reg_alpha': 0.06312571604287642, 'reg_lambda': 0.0021435105745680754}. Best is trial 15 with value: 0.12000397912432854.\u001b[0m\n",
      "\u001b[32m[I 2022-08-23 07:15:47,624]\u001b[0m Trial 16 finished with value: 0.12008453730350581 and parameters: {'max_depth': 3, 'learning_rate': 0.035950176489586906, 'n_estimators': 2400, 'min_child_weight': 1, 'colsample_bytree': 0.372237881721607, 'subsample': 0.446103722858773, 'reg_alpha': 0.040082059628015386, 'reg_lambda': 0.0019383873855740971}. Best is trial 15 with value: 0.12000397912432854.\u001b[0m\n",
      "\u001b[32m[I 2022-08-23 07:16:19,109]\u001b[0m Trial 17 finished with value: 0.12318076323370733 and parameters: {'max_depth': 3, 'learning_rate': 0.05823074293416091, 'n_estimators': 1399, 'min_child_weight': 1, 'colsample_bytree': 0.3617951242363298, 'subsample': 0.6693464089988879, 'reg_alpha': 0.04366476160653355, 'reg_lambda': 0.0013017528049370345}. Best is trial 15 with value: 0.12000397912432854.\u001b[0m\n",
      "\u001b[32m[I 2022-08-23 07:16:52,069]\u001b[0m Trial 18 finished with value: 0.1573190422282109 and parameters: {'max_depth': 3, 'learning_rate': 0.02919084522232607, 'n_estimators': 1847, 'min_child_weight': 2, 'colsample_bytree': 0.33616156645423617, 'subsample': 0.37220986630890274, 'reg_alpha': 8.155385333514662, 'reg_lambda': 0.0025349928526245957}. Best is trial 15 with value: 0.12000397912432854.\u001b[0m\n",
      "\u001b[32m[I 2022-08-23 07:18:47,610]\u001b[0m Trial 19 finished with value: 0.12041592955687172 and parameters: {'max_depth': 3, 'learning_rate': 0.008131624270029636, 'n_estimators': 4541, 'min_child_weight': 2, 'colsample_bytree': 0.5721562869740296, 'subsample': 0.47822620196427634, 'reg_alpha': 0.10631649962975681, 'reg_lambda': 0.00012591049527136875}. Best is trial 15 with value: 0.12000397912432854.\u001b[0m\n"
     ]
    }
   ],
   "source": [
    "def objective(trial):\n",
    "    xgb_params = dict(\n",
    "        max_depth=trial.suggest_int(\"max_depth\", 2, 10),\n",
    "        learning_rate=trial.suggest_float(\"learning_rate\", 1e-4, 1e-1, log=True),\n",
    "        n_estimators=trial.suggest_int(\"n_estimators\", 1000, 8000),\n",
    "        min_child_weight=trial.suggest_int(\"min_child_weight\", 1, 10),\n",
    "        colsample_bytree=trial.suggest_float(\"colsample_bytree\", 0.2, 1.0),\n",
    "        subsample=trial.suggest_float(\"subsample\", 0.2, 1.0),\n",
    "        reg_alpha=trial.suggest_float(\"reg_alpha\", 1e-4, 1e2, log=True),\n",
    "        reg_lambda=trial.suggest_float(\"reg_lambda\", 1e-4, 1e2, log=True),\n",
    "    )\n",
    "    xgb = XGBRegressor(**xgb_params)\n",
    "    return rmse_CV(xgb, X_train, y_train).mean()\n",
    "\n",
    "study = optuna.create_study(direction=\"minimize\")\n",
    "study.optimize(objective, n_trials=20)\n",
    "xgb_params = study.best_params"
   ]
  },
  {
   "cell_type": "code",
   "execution_count": 40,
   "id": "125455e9",
   "metadata": {
    "pycharm": {
     "name": "#%%\n"
    }
   },
   "outputs": [],
   "source": [
    "xgb = XGBRegressor(**xgb_params)\n",
    "\n",
    "xgb.fit(X_train, y_train)\n",
    "\n",
    "pred_test_xgb = np.exp(xgb.predict(X_test))\n",
    "\n",
    "output = pd.DataFrame({'Id': X_test.index, 'SalePrice': pred_test_xgb})\n",
    "output.to_csv('my_submission.csv', index=False)"
   ]
  },
  {
   "cell_type": "code",
   "execution_count": 68,
   "id": "f5da466a",
   "metadata": {},
   "outputs": [
    {
     "data": {
      "image/png": "[encoded data removed]",
      "text/plain": [
       "<Figure size 432x288 with 1 Axes>"
      ]
     },
     "metadata": {
      "needs_background": "light"
     },
     "output_type": "display_data"
    }
   ],
   "source": [
    "# Plot residuals\n",
    "plt.scatter(pred_test_xgb, pred_test_xgb - np.exp(y_test), c=\"blue\",  label=\"Validation data\")\n",
    "\n",
    "plt.title(\"XGBoost regression with Lasso regularization\")\n",
    "plt.xlabel(\"Predicted values\")\n",
    "plt.ylabel(\"Residuals\")\n",
    "plt.legend(loc=\"upper left\")\n",
    "plt.hlines(y=0, xmin=pred_test_xgb.min(), xmax=pred_test_xgb.max(), color=\"red\")\n",
    "plt.show()"
   ]
  },
  {
   "cell_type": "code",
   "execution_count": 65,
   "id": "d07b6c1b",
   "metadata": {},
   "outputs": [
    {
     "data": {
      "text/plain": [
       "LotFrontage              62.000000\n",
       "LotArea                  32.806055\n",
       "LotShape                  1.000000\n",
       "LandSlope                 3.000000\n",
       "OverallQual               7.000000\n",
       "                           ...    \n",
       "SaleType_WD               1.000000\n",
       "SaleCondition_Abnorml     0.000000\n",
       "SaleCondition_AdjLand     0.000000\n",
       "SaleCondition_Normal      1.000000\n",
       "SaleCondition_Partial     0.000000\n",
       "Name: 1454, Length: 215, dtype: float64"
      ]
     },
     "execution_count": 65,
     "metadata": {},
     "output_type": "execute_result"
    }
   ],
   "source": [
    "X_test.loc[1454, :]"
   ]
  },
  {
   "cell_type": "code",
   "execution_count": 69,
   "id": "be71d4e2",
   "metadata": {},
   "outputs": [
    {
     "data": {
      "text/plain": [
       "184999.9999999997"
      ]
     },
     "execution_count": 69,
     "metadata": {},
     "output_type": "execute_result"
    }
   ],
   "source": [
    "np.exp(y_test[1454])"
   ]
  },
  {
   "cell_type": "code",
   "execution_count": 62,
   "id": "74a686a8",
   "metadata": {},
   "outputs": [
    {
     "data": {
      "text/plain": [
       "Id             1454.00\n",
       "SalePrice    529211.75\n",
       "dtype: float64"
      ]
     },
     "execution_count": 62,
     "metadata": {},
     "output_type": "execute_result"
    }
   ],
   "source": [
    "output.max()"
   ]
  },
  {
   "cell_type": "code",
   "execution_count": 61,
   "id": "c45aa78a",
   "metadata": {},
   "outputs": [
    {
     "data": {
      "text/plain": [
       "(array([8]),)"
      ]
     },
     "execution_count": 61,
     "metadata": {},
     "output_type": "execute_result"
    }
   ],
   "source": [
    "np.where(pred_test_xgb == pred_test_xgb.max())"
   ]
  }
 ],
 "metadata": {
  "kernelspec": {
   "display_name": "Python 3 (ipykernel)",
   "language": "python",
   "name": "python3"
  },
  "language_info": {
   "codemirror_mode": {
    "name": "ipython",
    "version": 3
   },
   "file_extension": ".py",
   "mimetype": "text/x-python",
   "name": "python",
   "nbconvert_exporter": "python",
   "pygments_lexer": "ipython3",
   "version": "3.7.3"
  }
 },
 "nbformat": 4,
 "nbformat_minor": 5
}
