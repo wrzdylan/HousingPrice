{
 "cells": [
  {
   "cell_type": "code",
   "execution_count": 34,
   "id": "98bbfaeb",
   "metadata": {
    "pycharm": {
     "name": "#%%\n"
    }
   },
   "outputs": [],
   "source": [
    "import warnings\n",
    "import optuna\n",
    "import pandas as pd\n",
    "import numpy as np\n",
    "import matplotlib.pyplot as plt\n",
    "import seaborn as sns\n",
    "from sklearn.model_selection import train_test_split, KFold, cross_val_score\n",
    "from sklearn.metrics import make_scorer, mean_squared_error\n",
    "from sklearn.linear_model import LinearRegression, RidgeCV, LassoCV, ElasticNetCV\n",
    "from sklearn.preprocessing import StandardScaler\n",
    "from xgboost import XGBRegressor\n",
    "\n",
    "# Set Matplotlib defaults\n",
    "plt.style.use(\"seaborn-whitegrid\")\n",
    "plt.rc(\"figure\", autolayout=True)\n",
    "plt.rc(\n",
    "    \"axes\",\n",
    "    labelweight=\"bold\",\n",
    "    labelsize=\"large\",\n",
    "    titleweight=\"bold\",\n",
    "    titlesize=14,\n",
    "    titlepad=10,\n",
    ")\n",
    "\n",
    "# Mute warnings\n",
    "warnings.filterwarnings('ignore')"
   ]
  },
  {
   "cell_type": "code",
   "execution_count": 2,
   "id": "a3e87fb0",
   "metadata": {
    "pycharm": {
     "name": "#%%\n"
    },
    "scrolled": false
   },
   "outputs": [
    {
     "name": "stdout",
     "output_type": "stream",
     "text": [
      "(1460, 254)\n"
     ]
    },
    {
     "data": {
      "text/html": [
       "<div>\n",
       "<style scoped>\n",
       "    .dataframe tbody tr th:only-of-type {\n",
       "        vertical-align: middle;\n",
       "    }\n",
       "\n",
       "    .dataframe tbody tr th {\n",
       "        vertical-align: top;\n",
       "    }\n",
       "\n",
       "    .dataframe thead th {\n",
       "        text-align: right;\n",
       "    }\n",
       "</style>\n",
       "<table border=\"1\" class=\"dataframe\">\n",
       "  <thead>\n",
       "    <tr style=\"text-align: right;\">\n",
       "      <th></th>\n",
       "      <th>LotFrontage</th>\n",
       "      <th>LotArea</th>\n",
       "      <th>LotShape</th>\n",
       "      <th>LandSlope</th>\n",
       "      <th>OverallQual</th>\n",
       "      <th>OverallCond</th>\n",
       "      <th>MasVnrArea</th>\n",
       "      <th>ExterQual</th>\n",
       "      <th>BsmtQual</th>\n",
       "      <th>BsmtCond</th>\n",
       "      <th>...</th>\n",
       "      <th>SaleType_ConLw</th>\n",
       "      <th>SaleType_New</th>\n",
       "      <th>SaleType_Oth</th>\n",
       "      <th>SaleType_WD</th>\n",
       "      <th>SaleCondition_Abnorml</th>\n",
       "      <th>SaleCondition_AdjLand</th>\n",
       "      <th>SaleCondition_Alloca</th>\n",
       "      <th>SaleCondition_Family</th>\n",
       "      <th>SaleCondition_Normal</th>\n",
       "      <th>SaleCondition_Partial</th>\n",
       "    </tr>\n",
       "  </thead>\n",
       "  <tbody>\n",
       "    <tr>\n",
       "      <th>0</th>\n",
       "      <td>22.544136</td>\n",
       "      <td>33.911281</td>\n",
       "      <td>1.0</td>\n",
       "      <td>3.0</td>\n",
       "      <td>7</td>\n",
       "      <td>3.036931</td>\n",
       "      <td>19.953123</td>\n",
       "      <td>4.0</td>\n",
       "      <td>4.0</td>\n",
       "      <td>3.0</td>\n",
       "      <td>...</td>\n",
       "      <td>0</td>\n",
       "      <td>0</td>\n",
       "      <td>0</td>\n",
       "      <td>1</td>\n",
       "      <td>0</td>\n",
       "      <td>0</td>\n",
       "      <td>0</td>\n",
       "      <td>0</td>\n",
       "      <td>1</td>\n",
       "      <td>0</td>\n",
       "    </tr>\n",
       "    <tr>\n",
       "      <th>1</th>\n",
       "      <td>26.025794</td>\n",
       "      <td>35.130490</td>\n",
       "      <td>1.0</td>\n",
       "      <td>3.0</td>\n",
       "      <td>6</td>\n",
       "      <td>4.241668</td>\n",
       "      <td>0.000000</td>\n",
       "      <td>3.0</td>\n",
       "      <td>4.0</td>\n",
       "      <td>3.0</td>\n",
       "      <td>...</td>\n",
       "      <td>0</td>\n",
       "      <td>0</td>\n",
       "      <td>0</td>\n",
       "      <td>1</td>\n",
       "      <td>0</td>\n",
       "      <td>0</td>\n",
       "      <td>0</td>\n",
       "      <td>0</td>\n",
       "      <td>1</td>\n",
       "      <td>0</td>\n",
       "    </tr>\n",
       "    <tr>\n",
       "      <th>2</th>\n",
       "      <td>23.260385</td>\n",
       "      <td>36.700764</td>\n",
       "      <td>2.0</td>\n",
       "      <td>3.0</td>\n",
       "      <td>7</td>\n",
       "      <td>3.036931</td>\n",
       "      <td>18.223314</td>\n",
       "      <td>4.0</td>\n",
       "      <td>4.0</td>\n",
       "      <td>3.0</td>\n",
       "      <td>...</td>\n",
       "      <td>0</td>\n",
       "      <td>0</td>\n",
       "      <td>0</td>\n",
       "      <td>1</td>\n",
       "      <td>0</td>\n",
       "      <td>0</td>\n",
       "      <td>0</td>\n",
       "      <td>0</td>\n",
       "      <td>1</td>\n",
       "      <td>0</td>\n",
       "    </tr>\n",
       "    <tr>\n",
       "      <th>3</th>\n",
       "      <td>21.325231</td>\n",
       "      <td>35.079833</td>\n",
       "      <td>2.0</td>\n",
       "      <td>3.0</td>\n",
       "      <td>7</td>\n",
       "      <td>3.036931</td>\n",
       "      <td>0.000000</td>\n",
       "      <td>3.0</td>\n",
       "      <td>3.0</td>\n",
       "      <td>4.0</td>\n",
       "      <td>...</td>\n",
       "      <td>0</td>\n",
       "      <td>0</td>\n",
       "      <td>0</td>\n",
       "      <td>1</td>\n",
       "      <td>1</td>\n",
       "      <td>0</td>\n",
       "      <td>0</td>\n",
       "      <td>0</td>\n",
       "      <td>0</td>\n",
       "      <td>0</td>\n",
       "    </tr>\n",
       "    <tr>\n",
       "      <th>4</th>\n",
       "      <td>26.915973</td>\n",
       "      <td>39.166300</td>\n",
       "      <td>2.0</td>\n",
       "      <td>3.0</td>\n",
       "      <td>8</td>\n",
       "      <td>3.036931</td>\n",
       "      <td>26.177215</td>\n",
       "      <td>4.0</td>\n",
       "      <td>4.0</td>\n",
       "      <td>3.0</td>\n",
       "      <td>...</td>\n",
       "      <td>0</td>\n",
       "      <td>0</td>\n",
       "      <td>0</td>\n",
       "      <td>1</td>\n",
       "      <td>0</td>\n",
       "      <td>0</td>\n",
       "      <td>0</td>\n",
       "      <td>0</td>\n",
       "      <td>1</td>\n",
       "      <td>0</td>\n",
       "    </tr>\n",
       "  </tbody>\n",
       "</table>\n",
       "<p>5 rows × 254 columns</p>\n",
       "</div>"
      ],
      "text/plain": [
       "   LotFrontage    LotArea  LotShape  LandSlope  OverallQual  OverallCond  \\\n",
       "0    22.544136  33.911281       1.0        3.0            7     3.036931   \n",
       "1    26.025794  35.130490       1.0        3.0            6     4.241668   \n",
       "2    23.260385  36.700764       2.0        3.0            7     3.036931   \n",
       "3    21.325231  35.079833       2.0        3.0            7     3.036931   \n",
       "4    26.915973  39.166300       2.0        3.0            8     3.036931   \n",
       "\n",
       "   MasVnrArea  ExterQual  BsmtQual  BsmtCond  ...  SaleType_ConLw  \\\n",
       "0   19.953123        4.0       4.0       3.0  ...               0   \n",
       "1    0.000000        3.0       4.0       3.0  ...               0   \n",
       "2   18.223314        4.0       4.0       3.0  ...               0   \n",
       "3    0.000000        3.0       3.0       4.0  ...               0   \n",
       "4   26.177215        4.0       4.0       3.0  ...               0   \n",
       "\n",
       "   SaleType_New  SaleType_Oth  SaleType_WD  SaleCondition_Abnorml  \\\n",
       "0             0             0            1                      0   \n",
       "1             0             0            1                      0   \n",
       "2             0             0            1                      0   \n",
       "3             0             0            1                      1   \n",
       "4             0             0            1                      0   \n",
       "\n",
       "   SaleCondition_AdjLand  SaleCondition_Alloca  SaleCondition_Family  \\\n",
       "0                      0                     0                     0   \n",
       "1                      0                     0                     0   \n",
       "2                      0                     0                     0   \n",
       "3                      0                     0                     0   \n",
       "4                      0                     0                     0   \n",
       "\n",
       "   SaleCondition_Normal  SaleCondition_Partial  \n",
       "0                     1                      0  \n",
       "1                     1                      0  \n",
       "2                     1                      0  \n",
       "3                     0                      0  \n",
       "4                     1                      0  \n",
       "\n",
       "[5 rows x 254 columns]"
      ]
     },
     "execution_count": 2,
     "metadata": {},
     "output_type": "execute_result"
    }
   ],
   "source": [
    "train = pd.read_feather('./dataset/cleaned_train.feather')\n",
    "print(train.shape)\n",
    "train.head()"
   ]
  },
  {
   "cell_type": "code",
   "execution_count": 3,
   "id": "a05d1886",
   "metadata": {
    "pycharm": {
     "name": "#%%\n"
    }
   },
   "outputs": [
    {
     "name": "stdout",
     "output_type": "stream",
     "text": [
      "163000.00000000012\n",
      "754999.9999999999\n"
     ]
    }
   ],
   "source": [
    "print(np.exp(train.SalePrice.median()))\n",
    "print(np.exp(train.SalePrice.max()))"
   ]
  },
  {
   "cell_type": "code",
   "execution_count": 4,
   "id": "159da7bb",
   "metadata": {
    "pycharm": {
     "name": "#%%\n"
    }
   },
   "outputs": [
    {
     "name": "stdout",
     "output_type": "stream",
     "text": [
      "(1459, 239)\n"
     ]
    },
    {
     "data": {
      "text/html": [
       "<div>\n",
       "<style scoped>\n",
       "    .dataframe tbody tr th:only-of-type {\n",
       "        vertical-align: middle;\n",
       "    }\n",
       "\n",
       "    .dataframe tbody tr th {\n",
       "        vertical-align: top;\n",
       "    }\n",
       "\n",
       "    .dataframe thead th {\n",
       "        text-align: right;\n",
       "    }\n",
       "</style>\n",
       "<table border=\"1\" class=\"dataframe\">\n",
       "  <thead>\n",
       "    <tr style=\"text-align: right;\">\n",
       "      <th></th>\n",
       "      <th>LotFrontage</th>\n",
       "      <th>LotArea</th>\n",
       "      <th>LotShape</th>\n",
       "      <th>LandSlope</th>\n",
       "      <th>OverallQual</th>\n",
       "      <th>OverallCond</th>\n",
       "      <th>MasVnrArea</th>\n",
       "      <th>ExterQual</th>\n",
       "      <th>BsmtQual</th>\n",
       "      <th>BsmtCond</th>\n",
       "      <th>...</th>\n",
       "      <th>SaleType_ConLw</th>\n",
       "      <th>SaleType_New</th>\n",
       "      <th>SaleType_Oth</th>\n",
       "      <th>SaleType_WD</th>\n",
       "      <th>SaleCondition_Abnorml</th>\n",
       "      <th>SaleCondition_AdjLand</th>\n",
       "      <th>SaleCondition_Alloca</th>\n",
       "      <th>SaleCondition_Family</th>\n",
       "      <th>SaleCondition_Normal</th>\n",
       "      <th>SaleCondition_Partial</th>\n",
       "    </tr>\n",
       "  </thead>\n",
       "  <tbody>\n",
       "    <tr>\n",
       "      <th>0</th>\n",
       "      <td>30.720584</td>\n",
       "      <td>50.728195</td>\n",
       "      <td>1.0</td>\n",
       "      <td>3.0</td>\n",
       "      <td>5</td>\n",
       "      <td>6</td>\n",
       "      <td>0.000000</td>\n",
       "      <td>3.0</td>\n",
       "      <td>3.0</td>\n",
       "      <td>3.0</td>\n",
       "      <td>...</td>\n",
       "      <td>0</td>\n",
       "      <td>0</td>\n",
       "      <td>0</td>\n",
       "      <td>1</td>\n",
       "      <td>0</td>\n",
       "      <td>0</td>\n",
       "      <td>0</td>\n",
       "      <td>0</td>\n",
       "      <td>1</td>\n",
       "      <td>0</td>\n",
       "    </tr>\n",
       "    <tr>\n",
       "      <th>1</th>\n",
       "      <td>31.002606</td>\n",
       "      <td>54.118578</td>\n",
       "      <td>2.0</td>\n",
       "      <td>3.0</td>\n",
       "      <td>6</td>\n",
       "      <td>6</td>\n",
       "      <td>14.470534</td>\n",
       "      <td>3.0</td>\n",
       "      <td>3.0</td>\n",
       "      <td>3.0</td>\n",
       "      <td>...</td>\n",
       "      <td>0</td>\n",
       "      <td>0</td>\n",
       "      <td>0</td>\n",
       "      <td>1</td>\n",
       "      <td>0</td>\n",
       "      <td>0</td>\n",
       "      <td>0</td>\n",
       "      <td>0</td>\n",
       "      <td>1</td>\n",
       "      <td>0</td>\n",
       "    </tr>\n",
       "    <tr>\n",
       "      <th>2</th>\n",
       "      <td>29.006796</td>\n",
       "      <td>53.590849</td>\n",
       "      <td>2.0</td>\n",
       "      <td>3.0</td>\n",
       "      <td>5</td>\n",
       "      <td>5</td>\n",
       "      <td>0.000000</td>\n",
       "      <td>3.0</td>\n",
       "      <td>4.0</td>\n",
       "      <td>3.0</td>\n",
       "      <td>...</td>\n",
       "      <td>0</td>\n",
       "      <td>0</td>\n",
       "      <td>0</td>\n",
       "      <td>1</td>\n",
       "      <td>0</td>\n",
       "      <td>0</td>\n",
       "      <td>0</td>\n",
       "      <td>0</td>\n",
       "      <td>1</td>\n",
       "      <td>0</td>\n",
       "    </tr>\n",
       "    <tr>\n",
       "      <th>3</th>\n",
       "      <td>30.153513</td>\n",
       "      <td>48.336769</td>\n",
       "      <td>2.0</td>\n",
       "      <td>3.0</td>\n",
       "      <td>6</td>\n",
       "      <td>6</td>\n",
       "      <td>6.113887</td>\n",
       "      <td>3.0</td>\n",
       "      <td>3.0</td>\n",
       "      <td>3.0</td>\n",
       "      <td>...</td>\n",
       "      <td>0</td>\n",
       "      <td>0</td>\n",
       "      <td>0</td>\n",
       "      <td>1</td>\n",
       "      <td>0</td>\n",
       "      <td>0</td>\n",
       "      <td>0</td>\n",
       "      <td>0</td>\n",
       "      <td>1</td>\n",
       "      <td>0</td>\n",
       "    </tr>\n",
       "    <tr>\n",
       "      <th>4</th>\n",
       "      <td>19.394862</td>\n",
       "      <td>38.773079</td>\n",
       "      <td>2.0</td>\n",
       "      <td>3.0</td>\n",
       "      <td>8</td>\n",
       "      <td>5</td>\n",
       "      <td>0.000000</td>\n",
       "      <td>4.0</td>\n",
       "      <td>4.0</td>\n",
       "      <td>3.0</td>\n",
       "      <td>...</td>\n",
       "      <td>0</td>\n",
       "      <td>0</td>\n",
       "      <td>0</td>\n",
       "      <td>1</td>\n",
       "      <td>0</td>\n",
       "      <td>0</td>\n",
       "      <td>0</td>\n",
       "      <td>0</td>\n",
       "      <td>1</td>\n",
       "      <td>0</td>\n",
       "    </tr>\n",
       "  </tbody>\n",
       "</table>\n",
       "<p>5 rows × 239 columns</p>\n",
       "</div>"
      ],
      "text/plain": [
       "   LotFrontage    LotArea  LotShape  LandSlope  OverallQual  OverallCond  \\\n",
       "0    30.720584  50.728195       1.0        3.0            5            6   \n",
       "1    31.002606  54.118578       2.0        3.0            6            6   \n",
       "2    29.006796  53.590849       2.0        3.0            5            5   \n",
       "3    30.153513  48.336769       2.0        3.0            6            6   \n",
       "4    19.394862  38.773079       2.0        3.0            8            5   \n",
       "\n",
       "   MasVnrArea  ExterQual  BsmtQual  BsmtCond  ...  SaleType_ConLw  \\\n",
       "0    0.000000        3.0       3.0       3.0  ...               0   \n",
       "1   14.470534        3.0       3.0       3.0  ...               0   \n",
       "2    0.000000        3.0       4.0       3.0  ...               0   \n",
       "3    6.113887        3.0       3.0       3.0  ...               0   \n",
       "4    0.000000        4.0       4.0       3.0  ...               0   \n",
       "\n",
       "   SaleType_New  SaleType_Oth  SaleType_WD  SaleCondition_Abnorml  \\\n",
       "0             0             0            1                      0   \n",
       "1             0             0            1                      0   \n",
       "2             0             0            1                      0   \n",
       "3             0             0            1                      0   \n",
       "4             0             0            1                      0   \n",
       "\n",
       "   SaleCondition_AdjLand  SaleCondition_Alloca  SaleCondition_Family  \\\n",
       "0                      0                     0                     0   \n",
       "1                      0                     0                     0   \n",
       "2                      0                     0                     0   \n",
       "3                      0                     0                     0   \n",
       "4                      0                     0                     0   \n",
       "\n",
       "   SaleCondition_Normal  SaleCondition_Partial  \n",
       "0                     1                      0  \n",
       "1                     1                      0  \n",
       "2                     1                      0  \n",
       "3                     1                      0  \n",
       "4                     1                      0  \n",
       "\n",
       "[5 rows x 239 columns]"
      ]
     },
     "execution_count": 4,
     "metadata": {},
     "output_type": "execute_result"
    }
   ],
   "source": [
    "test = pd.read_feather('./dataset/cleaned_test.feather')\n",
    "print(test.shape)\n",
    "test.head()"
   ]
  },
  {
   "cell_type": "code",
   "execution_count": 5,
   "id": "2f2c80ae",
   "metadata": {
    "pycharm": {
     "name": "#%%\n"
    },
    "scrolled": false
   },
   "outputs": [
    {
     "data": {
      "text/html": [
       "<div>\n",
       "<style scoped>\n",
       "    .dataframe tbody tr th:only-of-type {\n",
       "        vertical-align: middle;\n",
       "    }\n",
       "\n",
       "    .dataframe tbody tr th {\n",
       "        vertical-align: top;\n",
       "    }\n",
       "\n",
       "    .dataframe thead th {\n",
       "        text-align: right;\n",
       "    }\n",
       "</style>\n",
       "<table border=\"1\" class=\"dataframe\">\n",
       "  <thead>\n",
       "    <tr style=\"text-align: right;\">\n",
       "      <th></th>\n",
       "      <th>LotFrontage</th>\n",
       "      <th>LotArea</th>\n",
       "      <th>LotShape</th>\n",
       "      <th>LandSlope</th>\n",
       "      <th>OverallQual</th>\n",
       "      <th>OverallCond</th>\n",
       "      <th>MasVnrArea</th>\n",
       "      <th>ExterQual</th>\n",
       "      <th>BsmtQual</th>\n",
       "      <th>BsmtCond</th>\n",
       "      <th>...</th>\n",
       "      <th>SaleType_ConLw</th>\n",
       "      <th>SaleType_New</th>\n",
       "      <th>SaleType_Oth</th>\n",
       "      <th>SaleType_WD</th>\n",
       "      <th>SaleCondition_Abnorml</th>\n",
       "      <th>SaleCondition_AdjLand</th>\n",
       "      <th>SaleCondition_Alloca</th>\n",
       "      <th>SaleCondition_Family</th>\n",
       "      <th>SaleCondition_Normal</th>\n",
       "      <th>SaleCondition_Partial</th>\n",
       "    </tr>\n",
       "  </thead>\n",
       "  <tbody>\n",
       "  </tbody>\n",
       "</table>\n",
       "<p>0 rows × 254 columns</p>\n",
       "</div>"
      ],
      "text/plain": [
       "Empty DataFrame\n",
       "Columns: [LotFrontage, LotArea, LotShape, LandSlope, OverallQual, OverallCond, MasVnrArea, ExterQual, BsmtQual, BsmtCond, BsmtExposure, BsmtFinType1, BsmtFinType2, BsmtUnfSF, HeatingQC, CentralAir, LowQualFinSF, GrLivArea, BedroomAbvGr, KitchenAbvGr, KitchenQual, TotRmsAbvGrd, Functional, Fireplaces, FireplaceQu, GarageYrBlt, GarageFinish, GarageCars, GarageQual, GarageCond, PavedDrive, PoolArea, PoolQC, Fence, MiscVal, SalePrice, TotalSF, TotalSqrFootage, YrBltAndRemod, LivLotRatio, Spaciousness, TotalBath, TotalPorchSF, has_pool, has_2nd_floor, has_garage, has_bsmt, has_fireplace, MSSubClass_120, MSSubClass_160, MSSubClass_180, MSSubClass_190, MSSubClass_20, MSSubClass_30, MSSubClass_40, MSSubClass_45, MSSubClass_50, MSSubClass_60, MSSubClass_70, MSSubClass_75, MSSubClass_80, MSSubClass_85, MSSubClass_90, MSZoning_C (all), MSZoning_FV, MSZoning_RH, MSZoning_RL, MSZoning_RM, Street_Grvl, Street_Pave, Alley_Grvl, Alley_None, Alley_Pave, LandContour_Bnk, LandContour_HLS, LandContour_Low, LandContour_Lvl, Utilities_AllPub, Utilities_NoSeWa, LotConfig_Corner, LotConfig_CulDSac, LotConfig_FR2, LotConfig_FR3, LotConfig_Inside, Neighborhood_Blmngtn, Neighborhood_Blueste, Neighborhood_BrDale, Neighborhood_BrkSide, Neighborhood_ClearCr, Neighborhood_CollgCr, Neighborhood_Crawfor, Neighborhood_Edwards, Neighborhood_Gilbert, Neighborhood_IDOTRR, Neighborhood_MeadowV, Neighborhood_Mitchel, Neighborhood_NAmes, Neighborhood_NPkVill, Neighborhood_NWAmes, Neighborhood_NoRidge, ...]\n",
       "Index: []\n",
       "\n",
       "[0 rows x 254 columns]"
      ]
     },
     "execution_count": 5,
     "metadata": {},
     "output_type": "execute_result"
    }
   ],
   "source": [
    "train[train.isin([np.nan, -np.nan, np.inf, -np.inf]).any(1)]"
   ]
  },
  {
   "cell_type": "code",
   "execution_count": 6,
   "id": "196940e3",
   "metadata": {
    "pycharm": {
     "name": "#%%\n"
    }
   },
   "outputs": [],
   "source": [
    "train_target = train.pop(\"SalePrice\")"
   ]
  },
  {
   "cell_type": "markdown",
   "id": "3cdeb04e",
   "metadata": {
    "pycharm": {
     "name": "#%% md\n"
    }
   },
   "source": [
    "## Model"
   ]
  },
  {
   "cell_type": "code",
   "execution_count": 7,
   "id": "b4a9f65c",
   "metadata": {
    "pycharm": {
     "name": "#%%\n"
    }
   },
   "outputs": [],
   "source": [
    "X_train, X_test, y_train, y_test = train_test_split(\n",
    "    train,\n",
    "    train_target,\n",
    "    test_size=0.3,\n",
    "    random_state=0\n",
    ")"
   ]
  },
  {
   "cell_type": "markdown",
   "id": "47b68232",
   "metadata": {
    "pycharm": {
     "name": "#%% md\n"
    }
   },
   "source": [
    "### Cross-Validation"
   ]
  },
  {
   "cell_type": "code",
   "execution_count": 8,
   "id": "12f6cf7f",
   "metadata": {
    "pycharm": {
     "name": "#%%\n"
    }
   },
   "outputs": [],
   "source": [
    "n_folds = 5\n",
    "\n",
    "scorer = make_scorer(mean_squared_error, greater_is_better=False)\n",
    "\n",
    "def rmse_CV(model, X, y):\n",
    "    kf = KFold(n_folds, shuffle=True, random_state=42).get_n_splits(train.values)\n",
    "    rmse = np.sqrt(-cross_val_score(model, X, y, scoring =\"neg_mean_squared_error\", cv=kf))\n",
    "    return np.exp(rmse)"
   ]
  },
  {
   "cell_type": "markdown",
   "id": "8c8532ae",
   "metadata": {},
   "source": [
    "Le RMSE permet de calculer la distance moyenne entre la target et la prédiction."
   ]
  },
  {
   "cell_type": "code",
   "execution_count": 9,
   "id": "a48dd26b",
   "metadata": {
    "pycharm": {
     "name": "#%%\n"
    }
   },
   "outputs": [],
   "source": [
    "def prediction(model, X, y, test_X, test_y):\n",
    "    m = model.fit(X, y)\n",
    "    pred_train = m.predict(X)\n",
    "    pred_test  = m.predict(test_X)\n",
    "    print('rmse on train set', rmse_CV(m, X, y).mean())\n",
    "    print('rmse on test set', rmse_CV(m, test_X, test_y).mean())\n",
    "    \n",
    "    return m, pred_train, pred_test\n",
    "\n",
    "def residuals_plot(pred_train, train_y, pred_test, test_y, title):\n",
    "    plt.scatter(pred_train, pred_train - train_y, c=\"blue\",  label=\"Training data\")\n",
    "    plt.scatter(pred_test, pred_test - test_y, c=\"green\",  label=\"Validation data\")\n",
    "\n",
    "    plt.title(title)\n",
    "    plt.xlabel(\"Predicted values\")\n",
    "    plt.ylabel(\"Residuals\")\n",
    "    plt.legend(loc=\"upper left\")\n",
    "    plt.hlines(y=0, xmin=pred_train.min(), xmax=pred_train.max(), color=\"red\")\n",
    "    plt.show()\n",
    "    \n",
    "def linear_plot(pred_train, train_y, pred_test, test_y, title):\n",
    "    plt.scatter(pred_train, train_y, c=\"blue\",  label=\"Training data\")\n",
    "    plt.scatter(pred_test, test_y, c=\"green\",  label=\"Validation data\")\n",
    "\n",
    "    plt.title(title)\n",
    "    plt.xlabel(\"Predicted values\")\n",
    "    plt.ylabel(\"Real values\")\n",
    "    plt.legend(loc=\"upper left\")\n",
    "    plt.plot([pred_train.min(), pred_train.max()], [pred_train.min(), pred_train.max()], c=\"red\")\n",
    "    plt.show()   "
   ]
  },
  {
   "cell_type": "markdown",
   "id": "30e63c88",
   "metadata": {
    "pycharm": {
     "name": "#%% md\n"
    }
   },
   "source": [
    "### Linear Regression"
   ]
  },
  {
   "cell_type": "code",
   "execution_count": 10,
   "id": "ef34c6e6",
   "metadata": {
    "pycharm": {
     "name": "#%%\n"
    }
   },
   "outputs": [
    {
     "name": "stdout",
     "output_type": "stream",
     "text": [
      "rmse on train set 1.1454350279405863\n",
      "rmse on test set 1.2236019432940741\n"
     ]
    },
    {
     "data": {
      "image/png": "[encoded data removed]",
      "text/plain": [
       "<Figure size 432x288 with 1 Axes>"
      ]
     },
     "metadata": {
      "needs_background": "light"
     },
     "output_type": "display_data"
    },
    {
     "data": {
      "image/png": "[encoded data removed]",
      "text/plain": [
       "<Figure size 432x288 with 1 Axes>"
      ]
     },
     "metadata": {
      "needs_background": "light"
     },
     "output_type": "display_data"
    }
   ],
   "source": [
    "lr, train_lr, test_lr = prediction(LinearRegression(), X_train, y_train, X_test, y_test)\n",
    "residuals_plot(train_lr, y_train, test_lr, y_test, \"Linear regression residuals\")\n",
    "linear_plot(train_lr, y_train, test_lr, y_test, \"Linear regression real values\")"
   ]
  },
  {
   "cell_type": "markdown",
   "id": "8314dfa4",
   "metadata": {
    "pycharm": {
     "name": "#%% md\n"
    }
   },
   "source": [
    "Les points residuelles sont dispersés de manière **random** autour de l'axe horizontal, on peut utiliser un modèle linéaire."
   ]
  },
  {
   "cell_type": "markdown",
   "id": "eff4ba30",
   "metadata": {
    "pycharm": {
     "name": "#%% md\n"
    }
   },
   "source": [
    "## Feature selection"
   ]
  },
  {
   "cell_type": "code",
   "execution_count": 11,
   "id": "b5fd7a42",
   "metadata": {
    "pycharm": {
     "name": "#%%\n"
    }
   },
   "outputs": [],
   "source": [
    "from sklearn.ensemble import RandomForestRegressor\n",
    "from sklearn.metrics import r2_score\n",
    "from sklearn.feature_selection import VarianceThreshold, mutual_info_regression, SelectKBest, f_regression\n",
    "from mlxtend.feature_selection import SequentialFeatureSelector as SFS"
   ]
  },
  {
   "cell_type": "markdown",
   "id": "cda55534",
   "metadata": {
    "pycharm": {
     "name": "#%% md\n"
    }
   },
   "source": [
    "### Constant features"
   ]
  },
  {
   "cell_type": "code",
   "execution_count": 12,
   "id": "9bb21df5",
   "metadata": {
    "pycharm": {
     "name": "#%%\n"
    }
   },
   "outputs": [
    {
     "data": {
      "text/plain": [
       "VarianceThreshold(threshold=0.01)"
      ]
     },
     "execution_count": 12,
     "metadata": {},
     "output_type": "execute_result"
    }
   ],
   "source": [
    "sel = VarianceThreshold(threshold=0.01)\n",
    "sel.fit(train)"
   ]
  },
  {
   "cell_type": "code",
   "execution_count": 13,
   "id": "73bef8f0",
   "metadata": {
    "pycharm": {
     "name": "#%%\n"
    }
   },
   "outputs": [
    {
     "name": "stdout",
     "output_type": "stream",
     "text": [
      "73\n",
      "['KitchenAbvGr', 'has_pool', 'MSSubClass_180', 'MSSubClass_40', 'MSSubClass_45']\n",
      "(1460, 180)\n",
      "(1459, 182)\n"
     ]
    }
   ],
   "source": [
    "print(\n",
    "    len([\n",
    "        x for x in train.columns\n",
    "        if x not in train.columns[sel.get_support()]\n",
    "    ]))\n",
    "\n",
    "train_sel = [x for x in train.columns if x not in train.columns[sel.get_support()]]\n",
    "print(train_sel[:5])\n",
    "\n",
    "train = train.loc[:, ~train.columns.isin(train_sel)]\n",
    "print(train.shape)\n",
    "test =  test.loc[:, ~test.columns.isin(train_sel)]\n",
    "print(test.shape)"
   ]
  },
  {
   "cell_type": "markdown",
   "id": "dcdd541b",
   "metadata": {
    "pycharm": {
     "name": "#%% md\n"
    }
   },
   "source": [
    "### Univariate features "
   ]
  },
  {
   "cell_type": "code",
   "execution_count": 14,
   "id": "98f18e3c",
   "metadata": {
    "pycharm": {
     "name": "#%%\n"
    }
   },
   "outputs": [],
   "source": [
    "# fs = SelectKBest(score_func=f_regression, k=10)\n",
    "# df_fs = fs.fit_transform(df, df_target)\n",
    "# df_fs.shape"
   ]
  },
  {
   "cell_type": "code",
   "execution_count": 15,
   "id": "b4d30373",
   "metadata": {
    "pycharm": {
     "name": "#%%\n"
    }
   },
   "outputs": [],
   "source": [
    "# fs.get_feature_names_out()"
   ]
  },
  {
   "cell_type": "markdown",
   "id": "d9e29356",
   "metadata": {
    "pycharm": {
     "name": "#%% md\n"
    }
   },
   "source": [
    "### Redundant features"
   ]
  },
  {
   "cell_type": "code",
   "execution_count": 16,
   "id": "d5ff7d40",
   "metadata": {
    "pycharm": {
     "name": "#%%\n"
    }
   },
   "outputs": [
    {
     "name": "stdout",
     "output_type": "stream",
     "text": [
      "{'GarageType_None', 'Exterior2nd_CmentBd', 'Exterior2nd_MetalSd', 'MasVnrType_None', 'BldgType_2fmCon', 'HouseStyle_2Story', 'HouseStyle_1Story', 'PoolQC', 'has_bsmt', 'Exterior2nd_Wd Sdng', 'LotConfig_Inside', 'ExterCond_TA', 'Neighborhood_Somerst', 'Foundation_PConc', 'HouseStyle_1.5Fin', 'TotalSF', 'GarageCond', 'Exterior2nd_Stucco', 'TotalSqrFootage', 'BldgType_Duplex', 'Exterior2nd_Plywood', 'Foundation_Slab', 'GarageQual', 'Exterior2nd_VinylSd', 'Exterior2nd_HdBoard', 'has_fireplace', 'BldgType_TwnhsE', 'RoofStyle_Hip', 'Exterior2nd_AsbShng', 'MiscFeature_Shed', 'SaleType_WD', 'TotRmsAbvGrd', 'MiscFeature_None', 'FireplaceQu', 'has_garage', 'MSZoning_RM', 'SaleCondition_Partial', 'Electrical_SBrkr', 'HouseStyle_SLvl'}\n",
      "(1460, 141)\n",
      "(1459, 143)\n"
     ]
    }
   ],
   "source": [
    "def correlation(dataset, threshold):\n",
    "    col_corr = set()  # Set of all the names of correlated columns\n",
    "    corr_matrix = dataset.corr()\n",
    "    for i in range(len(corr_matrix.columns)):\n",
    "        for j in range(i):\n",
    "            if abs(corr_matrix.iloc[i, j]) > threshold:  # we are interested in absolute coefficient value\n",
    "                col_name = corr_matrix.columns[i]  # getting the name of column\n",
    "                col_corr.add(col_name)\n",
    "    return col_corr\n",
    "\n",
    "corr_features = correlation(train, 0.75)\n",
    "print(corr_features)\n",
    "\n",
    "train = train.loc[:, ~train.columns.isin(corr_features)]\n",
    "test =  test.loc[:, ~test.columns.isin(corr_features)]\n",
    "\n",
    "print(train.shape)\n",
    "print(test.shape)"
   ]
  },
  {
   "cell_type": "code",
   "execution_count": 17,
   "id": "10b39bb3",
   "metadata": {
    "pycharm": {
     "name": "#%%\n"
    }
   },
   "outputs": [],
   "source": [
    "# from mlxtend.feature_selection import SequentialFeatureSelector as SFS\n",
    "\n",
    "# sfs1 = SFS(RandomForestRegressor(), \n",
    "#            k_features=10, \n",
    "#            forward=True, \n",
    "#            floating=False, \n",
    "#            verbose=2,\n",
    "#            scoring='r2',\n",
    "#            cv=3)\n",
    "\n",
    "# sfs1 = sfs1.fit(np.array(df_corr), df_target)"
   ]
  },
  {
   "cell_type": "code",
   "execution_count": 18,
   "id": "b762a5a0",
   "metadata": {
    "pycharm": {
     "name": "#%%\n"
    }
   },
   "outputs": [],
   "source": [
    "# sfs1.k_feature_idx_"
   ]
  },
  {
   "cell_type": "code",
   "execution_count": 19,
   "id": "29703992",
   "metadata": {
    "pycharm": {
     "name": "#%%\n"
    }
   },
   "outputs": [],
   "source": [
    "# df.columns[list(sfs1.k_feature_idx_)]"
   ]
  },
  {
   "cell_type": "markdown",
   "id": "cecf1c02",
   "metadata": {
    "pycharm": {
     "name": "#%% md\n"
    }
   },
   "source": [
    "### Feature Utility Scores"
   ]
  },
  {
   "cell_type": "code",
   "execution_count": 31,
   "id": "f3b39ba8",
   "metadata": {
    "pycharm": {
     "name": "#%%\n"
    }
   },
   "outputs": [],
   "source": [
    "def make_mi_scores(X, y):\n",
    "    mi_scores = mutual_info_regression(X, y, random_state=0)\n",
    "    mi_scores = pd.Series(mi_scores, name=\"MI Scores\", index=X.columns)\n",
    "    mi_scores = mi_scores.sort_values(ascending=False)\n",
    "    return mi_scores    \n",
    "    \n",
    "def drop_uninformative(df, mi_scores):\n",
    "    return df.loc[:, df.columns.isin(mi_scores[mi_scores > 0.0].index)]"
   ]
  },
  {
   "cell_type": "code",
   "execution_count": 29,
   "id": "d377763f",
   "metadata": {
    "pycharm": {
     "name": "#%%\n"
    }
   },
   "outputs": [
    {
     "data": {
      "text/plain": [
       "OverallQual            0.572758\n",
       "GrLivArea              0.476518\n",
       "GarageCars             0.371848\n",
       "YrBltAndRemod          0.353405\n",
       "TotalBath              0.339321\n",
       "                         ...   \n",
       "Exterior2nd_BrkFace    0.000000\n",
       "Exterior1st_Stucco     0.000000\n",
       "Condition2_Norm        0.000000\n",
       "Exterior1st_BrkFace    0.000000\n",
       "GarageType_Basment     0.000000\n",
       "Name: MI Scores, Length: 141, dtype: float64"
      ]
     },
     "execution_count": 29,
     "metadata": {},
     "output_type": "execute_result"
    }
   ],
   "source": [
    "mi_scores = make_mi_scores(train, train_target)\n",
    "mi_scores"
   ]
  },
  {
   "cell_type": "code",
   "execution_count": 33,
   "id": "53aeb404",
   "metadata": {
    "pycharm": {
     "name": "#%%\n"
    }
   },
   "outputs": [
    {
     "name": "stdout",
     "output_type": "stream",
     "text": [
      "(1460, 118)\n",
      "(1460, 118)\n"
     ]
    }
   ],
   "source": [
    "train = drop_uninformative(train, mi_scores)\n",
    "test  = drop_uninformative(test, mi_scores)\n",
    "\n",
    "print(train.shape)\n",
    "print(test.shape)"
   ]
  },
  {
   "cell_type": "markdown",
   "id": "0bb53b6d",
   "metadata": {},
   "source": [
    "### Data preparation"
   ]
  },
  {
   "cell_type": "code",
   "execution_count": 43,
   "id": "0c28fdb0",
   "metadata": {},
   "outputs": [],
   "source": [
    "transformer = StandardScaler().fit(train)\n",
    "\n",
    "train_scaled = transformer.transform(train)\n",
    "test_scaled = transformer.transform(test)"
   ]
  },
  {
   "cell_type": "code",
   "execution_count": 44,
   "id": "2afda1be",
   "metadata": {},
   "outputs": [],
   "source": [
    "X_train, X_test, y_train, y_test = train_test_split(\n",
    "    train_scaled,\n",
    "    train_target,\n",
    "    test_size=0.3,\n",
    "    random_state=0\n",
    ")"
   ]
  },
  {
   "cell_type": "markdown",
   "id": "4eb8236c",
   "metadata": {
    "pycharm": {
     "name": "#%% md\n"
    }
   },
   "source": [
    "Regularization is a very useful method to handle collinearity, filter out noise from data, and eventually prevent overfitting.\n",
    "\n",
    "The concept behind regularization is to introduce additional information (bias) to penalize extreme parameter weights.\n",
    "\n",
    "Ridge and Lasso Regression are types of Regularization techniques"
   ]
  },
  {
   "cell_type": "markdown",
   "id": "c4db6392",
   "metadata": {
    "pycharm": {
     "name": "#%% md\n"
    }
   },
   "source": [
    "### Ridge Regression"
   ]
  },
  {
   "cell_type": "code",
   "execution_count": null,
   "id": "f889ecd3",
   "metadata": {
    "pycharm": {
     "name": "#%%\n"
    }
   },
   "outputs": [],
   "source": [
    "# ridge, train_ridge, test_ridge = prediction(\n",
    "#     RidgeCV(alphas=[0.01, 0.03, 0.06, 0.1, 0.3, 0.6, 1, 3, 6, 10, 30, 60]), X_train, y_train, X_test, y_test\n",
    "# )\n",
    "\n",
    "# alpha = ridge.alpha_\n",
    "# print('Best alpha', alpha)\n",
    "\n",
    "# ridge, train_ridge, test_ridge = prediction(\n",
    "#     RidgeCV(alphas=[alpha * .6, alpha * .65, alpha * .7, alpha * .75, alpha * .8, alpha * .85, \n",
    "#                           alpha * .9, alpha * .95, alpha, alpha * 1.05, alpha * 1.1, alpha * 1.15,\n",
    "#                           alpha * 1.25, alpha * 1.3, alpha * 1.35, alpha * 1.4], cv=5), \n",
    "#     X_train, y_train, X_test, y_test\n",
    "# )\n",
    "\n",
    "# alpha = ridge.alpha_\n",
    "# print(\"Best alpha :\", alpha)\n",
    "\n",
    "# residuals_plot(train_ridge, y_train, test_ridge, y_test, \"Ridge regression residuals\")\n",
    "# linear_plot(train_ridge, y_train, test_ridge, y_test, \"Ridge regression real values\")"
   ]
  },
  {
   "cell_type": "markdown",
   "id": "d4c82641",
   "metadata": {
    "pycharm": {
     "name": "#%% md\n"
    }
   },
   "source": [
    "### LASSO Regression"
   ]
  },
  {
   "cell_type": "code",
   "execution_count": null,
   "id": "a61d938b",
   "metadata": {
    "pycharm": {
     "name": "#%%\n"
    }
   },
   "outputs": [],
   "source": [
    "# lasso, train_lasso, test_lasso = prediction(\n",
    "#     LassoCV(alphas = [1, 0.1, 0.001, 0.0005]), X_train, y_train, X_test, y_test\n",
    "# )\n",
    "\n",
    "# residuals_plot(train_lasso, y_train, test_lasso, y_test, \"Lasso regression residuals\")\n",
    "# linear_plot(train_lasso, y_train, test_lasso, y_test, \"Lasso regression real values\")"
   ]
  },
  {
   "cell_type": "code",
   "execution_count": null,
   "id": "607835ab",
   "metadata": {
    "pycharm": {
     "name": "#%%\n"
    }
   },
   "outputs": [],
   "source": [
    "# coef_lasso = pd.Series(lasso.coef_, index=train.columns)\n",
    "\n",
    "# print(\"Lasso picked \" + str(sum(coef_lasso != 0)) + \" variables and eliminated the other \" +  str(sum(coef_lasso == 0)) + \" variables\")"
   ]
  },
  {
   "cell_type": "code",
   "execution_count": null,
   "id": "98f8a615",
   "metadata": {
    "pycharm": {
     "name": "#%%\n"
    }
   },
   "outputs": [],
   "source": [
    "# imp_coef = pd.concat([coef_lasso.sort_values().head(10),\n",
    "#                      coef_lasso.sort_values().tail(10)])"
   ]
  },
  {
   "cell_type": "code",
   "execution_count": null,
   "id": "fa88cd99",
   "metadata": {
    "pycharm": {
     "name": "#%%\n"
    }
   },
   "outputs": [],
   "source": [
    "# plt.figure(figsize=(10,10))\n",
    "# imp_coef.plot(kind = \"barh\")\n",
    "# plt.title(\"Coefficients in the Lasso Model\");"
   ]
  },
  {
   "cell_type": "markdown",
   "id": "0a55aa09",
   "metadata": {
    "pycharm": {
     "name": "#%% md\n"
    }
   },
   "source": [
    "Pour les coeffs négatifs, voir unbalanced categorical variables"
   ]
  },
  {
   "cell_type": "markdown",
   "id": "ce943cad",
   "metadata": {
    "pycharm": {
     "name": "#%% md\n"
    }
   },
   "source": [
    "### ElasticNet"
   ]
  },
  {
   "cell_type": "code",
   "execution_count": 45,
   "id": "6dc3f6f7",
   "metadata": {
    "pycharm": {
     "name": "#%%\n"
    }
   },
   "outputs": [],
   "source": [
    "kfolds = KFold(n_splits=10, shuffle=True, random_state=42)\n",
    "\n",
    "alphas = [0.0001, 0.0002, 0.0003, 0.0004, 0.0005, 0.0006, 0.0007, 0.0008, 0.0009]\n",
    "l1ratio = [0.7, 0.75, 0.8, 0.85, 0.9, 0.95, 0.99, 1]"
   ]
  },
  {
   "cell_type": "code",
   "execution_count": 46,
   "id": "90fc1a8a",
   "metadata": {
    "pycharm": {
     "name": "#%%\n"
    }
   },
   "outputs": [
    {
     "name": "stdout",
     "output_type": "stream",
     "text": [
      "rmse on train set 1.1329683520822913\n",
      "rmse on test set 1.1440617488301215\n",
      "best alpha 0.0009\n",
      "best intercept 12.022513092742814\n"
     ]
    },
    {
     "data": {
      "image/png": "[encoded data removed]",
      "text/plain": [
       "<Figure size 432x288 with 1 Axes>"
      ]
     },
     "metadata": {},
     "output_type": "display_data"
    },
    {
     "data": {
      "image/png": "[encoded data removed]",
      "text/plain": [
       "<Figure size 432x288 with 1 Axes>"
      ]
     },
     "metadata": {},
     "output_type": "display_data"
    }
   ],
   "source": [
    "elasticnet, train_elasticnet, test_elasticnet = prediction(\n",
    "    ElasticNetCV(max_iter=1e7, alphas=alphas, l1_ratio=l1ratio), X_train, y_train, X_test, y_test\n",
    ")\n",
    "\n",
    "print(\"best alpha\", elasticnet.alpha_)\n",
    "print(\"best intercept\", elasticnet.intercept_)\n",
    "\n",
    "residuals_plot(train_elasticnet, y_train, test_elasticnet, y_test, \"ElasticNet regression residuals\")\n",
    "linear_plot(train_elasticnet, y_train, test_elasticnet, y_test, \"ElasticNet regression real values\")"
   ]
  },
  {
   "cell_type": "markdown",
   "id": "1bc2a2ae",
   "metadata": {
    "pycharm": {
     "name": "#%% md\n"
    }
   },
   "source": [
    "### XGBoost"
   ]
  },
  {
   "cell_type": "code",
   "execution_count": 47,
   "id": "0879cd53",
   "metadata": {},
   "outputs": [],
   "source": [
    "X_train, X_test, y_train, y_test = train_test_split(\n",
    "    train,\n",
    "    train_target,\n",
    "    test_size=0.3,\n",
    "    random_state=0\n",
    ")"
   ]
  },
  {
   "cell_type": "code",
   "execution_count": 48,
   "id": "305e29d7",
   "metadata": {
    "pycharm": {
     "name": "#%%\n"
    },
    "scrolled": true
   },
   "outputs": [
    {
     "name": "stderr",
     "output_type": "stream",
     "text": [
      "\u001b[32m[I 2022-09-14 14:49:42,860]\u001b[0m A new study created in memory with name: no-name-e4605141-2f53-4075-a6c0-d9bad7ff6953\u001b[0m\n",
      "\u001b[32m[I 2022-09-14 14:50:57,696]\u001b[0m Trial 0 finished with value: 1.1390343649915156 and parameters: {'max_depth': 9, 'learning_rate': 0.004353932439001169, 'n_estimators': 3842, 'min_child_weight': 7, 'colsample_bytree': 0.45946956605788536, 'subsample': 0.8338568714219894, 'reg_alpha': 0.3376003168939734, 'reg_lambda': 61.04480553245189}. Best is trial 0 with value: 1.1390343649915156.\u001b[0m\n",
      "\u001b[32m[I 2022-09-14 14:51:57,263]\u001b[0m Trial 1 finished with value: 1.1428516630787615 and parameters: {'max_depth': 6, 'learning_rate': 0.06339595773679878, 'n_estimators': 4108, 'min_child_weight': 1, 'colsample_bytree': 0.9799644564292735, 'subsample': 0.9433948177156468, 'reg_alpha': 0.0060894073366625934, 'reg_lambda': 0.006852160520680289}. Best is trial 0 with value: 1.1390343649915156.\u001b[0m\n",
      "\u001b[32m[I 2022-09-14 14:52:06,273]\u001b[0m Trial 2 finished with value: 2662.0817477510645 and parameters: {'max_depth': 2, 'learning_rate': 0.0005091796577787602, 'n_estimators': 749, 'min_child_weight': 8, 'colsample_bytree': 0.4748837652991529, 'subsample': 0.39639910662279637, 'reg_alpha': 0.006565736233433633, 'reg_lambda': 0.8528989449192559}. Best is trial 0 with value: 1.1390343649915156.\u001b[0m\n",
      "\u001b[32m[I 2022-09-14 14:52:58,938]\u001b[0m Trial 3 finished with value: 1288.590180103843 and parameters: {'max_depth': 2, 'learning_rate': 0.00012059395011216093, 'n_estimators': 3955, 'min_child_weight': 5, 'colsample_bytree': 0.6384255604445195, 'subsample': 0.3301416445003501, 'reg_alpha': 0.45920194690565175, 'reg_lambda': 0.0005159486855846453}. Best is trial 0 with value: 1.1390343649915156.\u001b[0m\n",
      "\u001b[32m[I 2022-09-14 14:53:53,454]\u001b[0m Trial 4 finished with value: 1.1350195533305674 and parameters: {'max_depth': 4, 'learning_rate': 0.03792473040902703, 'n_estimators': 3729, 'min_child_weight': 4, 'colsample_bytree': 0.6435566362074754, 'subsample': 0.6651911173490626, 'reg_alpha': 1.922776590452261, 'reg_lambda': 0.027963337063608176}. Best is trial 4 with value: 1.1350195533305674.\u001b[0m\n",
      "\u001b[32m[I 2022-09-14 14:54:57,557]\u001b[0m Trial 5 finished with value: 1.1351716951277293 and parameters: {'max_depth': 3, 'learning_rate': 0.003907271433682428, 'n_estimators': 4523, 'min_child_weight': 10, 'colsample_bytree': 0.45265495918728454, 'subsample': 0.8036801254397126, 'reg_alpha': 0.15444424455743347, 'reg_lambda': 0.0007109012057608923}. Best is trial 4 with value: 1.1350195533305674.\u001b[0m\n",
      "\u001b[32m[I 2022-09-14 14:55:29,320]\u001b[0m Trial 6 finished with value: 1.1394875809273952 and parameters: {'max_depth': 6, 'learning_rate': 0.10617819109806155, 'n_estimators': 1978, 'min_child_weight': 4, 'colsample_bytree': 0.8561915334321777, 'subsample': 0.8429762490774888, 'reg_alpha': 0.6542861131498493, 'reg_lambda': 0.47808156098419397}. Best is trial 4 with value: 1.1350195533305674.\u001b[0m\n",
      "\u001b[32m[I 2022-09-14 14:56:13,408]\u001b[0m Trial 7 finished with value: 1.156035637349688 and parameters: {'max_depth': 4, 'learning_rate': 0.002124013764575251, 'n_estimators': 3308, 'min_child_weight': 5, 'colsample_bytree': 0.2583041598094322, 'subsample': 0.7224060595492028, 'reg_alpha': 0.43907769681455, 'reg_lambda': 10.538812818706713}. Best is trial 4 with value: 1.1350195533305674.\u001b[0m\n",
      "\u001b[32m[I 2022-09-14 14:57:11,898]\u001b[0m Trial 8 finished with value: 1.1341364901430526 and parameters: {'max_depth': 10, 'learning_rate': 0.020266758692406107, 'n_estimators': 2675, 'min_child_weight': 6, 'colsample_bytree': 0.658625604761564, 'subsample': 0.3252595816598347, 'reg_alpha': 0.029338350952903956, 'reg_lambda': 21.280329257385564}. Best is trial 8 with value: 1.1341364901430526.\u001b[0m\n",
      "\u001b[32m[I 2022-09-14 14:57:53,570]\u001b[0m Trial 9 finished with value: 1.1436918821162139 and parameters: {'max_depth': 8, 'learning_rate': 0.08495827187065767, 'n_estimators': 2092, 'min_child_weight': 7, 'colsample_bytree': 0.5641656604912704, 'subsample': 0.3507249220486154, 'reg_alpha': 0.0013293989540331403, 'reg_lambda': 0.00014799876412640979}. Best is trial 8 with value: 1.1341364901430526.\u001b[0m\n",
      "\u001b[32m[I 2022-09-14 14:59:04,858]\u001b[0m Trial 10 finished with value: 1.3384074939486073 and parameters: {'max_depth': 10, 'learning_rate': 0.6316005267476432, 'n_estimators': 5740, 'min_child_weight': 2, 'colsample_bytree': 0.7541664219545234, 'subsample': 0.5111707492598769, 'reg_alpha': 56.572142760170955, 'reg_lambda': 9.99395399733211}. Best is trial 8 with value: 1.1341364901430526.\u001b[0m\n",
      "\u001b[32m[I 2022-09-14 14:59:35,612]\u001b[0m Trial 11 finished with value: 1.368082777690222 and parameters: {'max_depth': 5, 'learning_rate': 0.02188787605417448, 'n_estimators': 2468, 'min_child_weight': 3, 'colsample_bytree': 0.7381956943079334, 'subsample': 0.21451040475363325, 'reg_alpha': 34.25927262478282, 'reg_lambda': 0.03164012450725782}. Best is trial 8 with value: 1.1341364901430526.\u001b[0m\n",
      "\u001b[32m[I 2022-09-14 14:59:52,233]\u001b[0m Trial 12 finished with value: 1.166246356952006 and parameters: {'max_depth': 8, 'learning_rate': 0.01614000276125667, 'n_estimators': 1056, 'min_child_weight': 6, 'colsample_bytree': 0.6559769436624954, 'subsample': 0.6004862405476743, 'reg_alpha': 8.054753100885973, 'reg_lambda': 0.06964350236982536}. Best is trial 8 with value: 1.1341364901430526.\u001b[0m\n",
      "\u001b[32m[I 2022-09-14 15:00:54,765]\u001b[0m Trial 13 finished with value: 1.1602518872912548 and parameters: {'max_depth': 4, 'learning_rate': 0.5407751588275329, 'n_estimators': 5265, 'min_child_weight': 3, 'colsample_bytree': 0.29909014405855133, 'subsample': 0.5943847159123871, 'reg_alpha': 4.3106720294048895, 'reg_lambda': 0.005092366113328742}. Best is trial 8 with value: 1.1341364901430526.\u001b[0m\n",
      "\u001b[32m[I 2022-09-14 15:01:59,154]\u001b[0m Trial 14 finished with value: 1.136637922127422 and parameters: {'max_depth': 7, 'learning_rate': 0.03015373707027446, 'n_estimators': 2928, 'min_child_weight': 9, 'colsample_bytree': 0.8040408483265419, 'subsample': 0.4947342814435771, 'reg_alpha': 0.00010397217638763459, 'reg_lambda': 0.8938251124882026}. Best is trial 8 with value: 1.1341364901430526.\u001b[0m\n",
      "\u001b[32m[I 2022-09-14 15:02:34,580]\u001b[0m Trial 15 finished with value: 1.1491851073859127 and parameters: {'max_depth': 10, 'learning_rate': 0.2623443882443138, 'n_estimators': 1675, 'min_child_weight': 6, 'colsample_bytree': 0.5586039052686206, 'subsample': 0.6866680570990992, 'reg_alpha': 0.024409978072860963, 'reg_lambda': 82.73963088915069}. Best is trial 8 with value: 1.1341364901430526.\u001b[0m\n",
      "\u001b[32m[I 2022-09-14 15:03:20,161]\u001b[0m Trial 16 finished with value: 1.1563855223811128 and parameters: {'max_depth': 5, 'learning_rate': 0.008293207145854327, 'n_estimators': 3042, 'min_child_weight': 4, 'colsample_bytree': 0.8908627397519646, 'subsample': 0.2153686519033015, 'reg_alpha': 3.2191568647873416, 'reg_lambda': 5.5037802927710056}. Best is trial 8 with value: 1.1341364901430526.\u001b[0m\n",
      "\u001b[32m[I 2022-09-14 15:04:53,570]\u001b[0m Trial 17 finished with value: 1.1396153846281518 and parameters: {'max_depth': 7, 'learning_rate': 0.0012432639903510662, 'n_estimators': 4842, 'min_child_weight': 7, 'colsample_bytree': 0.7012210268947103, 'subsample': 0.4475143187556365, 'reg_alpha': 0.04125592290873523, 'reg_lambda': 0.012650284072603253}. Best is trial 8 with value: 1.1341364901430526.\u001b[0m\n",
      "\u001b[32m[I 2022-09-14 15:04:55,800]\u001b[0m Trial 18 finished with value: 1.1525812208965693 and parameters: {'max_depth': 4, 'learning_rate': 0.22415209623324378, 'n_estimators': 142, 'min_child_weight': 4, 'colsample_bytree': 0.3486265543160527, 'subsample': 0.5776717756682128, 'reg_alpha': 0.002078504240699764, 'reg_lambda': 0.30819538707818006}. Best is trial 8 with value: 1.1341364901430526.\u001b[0m\n",
      "\u001b[32m[I 2022-09-14 15:05:59,724]\u001b[0m Trial 19 finished with value: 1.14037576077327 and parameters: {'max_depth': 9, 'learning_rate': 0.008842391607093382, 'n_estimators': 3280, 'min_child_weight': 1, 'colsample_bytree': 0.5566596651439779, 'subsample': 0.6895962644613333, 'reg_alpha': 1.5214494497255668, 'reg_lambda': 0.16503787934317396}. Best is trial 8 with value: 1.1341364901430526.\u001b[0m\n"
     ]
    }
   ],
   "source": [
    "def objective(trial):\n",
    "    xgb_params = dict(\n",
    "        max_depth=trial.suggest_int(\"max_depth\", 2, 10),\n",
    "        learning_rate=trial.suggest_float(\"learning_rate\", 1e-4, 1e-0, log=True),\n",
    "        n_estimators=trial.suggest_int(\"n_estimators\", 100, 6000),\n",
    "        min_child_weight=trial.suggest_int(\"min_child_weight\", 1, 10),\n",
    "        colsample_bytree=trial.suggest_float(\"colsample_bytree\", 0.2, 1.0),\n",
    "        subsample=trial.suggest_float(\"subsample\", 0.2, 1.0),\n",
    "        reg_alpha=trial.suggest_float(\"reg_alpha\", 1e-4, 1e2, log=True),\n",
    "        reg_lambda=trial.suggest_float(\"reg_lambda\", 1e-4, 1e2, log=True),\n",
    "    )\n",
    "    xgb = XGBRegressor(**xgb_params)\n",
    "    return rmse_CV(xgb, X_train, y_train).mean()\n",
    "\n",
    "study = optuna.create_study(direction=\"minimize\")\n",
    "study.optimize(objective, n_trials=20)\n",
    "xgb_params = study.best_params"
   ]
  },
  {
   "cell_type": "code",
   "execution_count": 72,
   "id": "cf6e7547",
   "metadata": {
    "pycharm": {
     "name": "#%%\n"
    }
   },
   "outputs": [
    {
     "name": "stdout",
     "output_type": "stream",
     "text": [
      "rmse on train set 1.1341364901430526\n",
      "rmse on test set 1.1450949408163602\n"
     ]
    }
   ],
   "source": [
    "xgb = XGBRegressor(**xgb_params)\n",
    "\n",
    "xgb.fit(X_train, y_train, early_stopping_rounds=5, eval_set=[(X_test, y_test)], verbose=False)\n",
    "\n",
    "pred_xgb = xgb.predict(X_train)\n",
    "pred_test_xgb = xgb.predict(X_test)\n",
    "\n",
    "print('rmse on train set', rmse_CV(xgb, X_train, y_train).mean())\n",
    "print('rmse on test set', rmse_CV(xgb, X_test, y_test).mean())"
   ]
  },
  {
   "cell_type": "code",
   "execution_count": 73,
   "id": "fa89e572",
   "metadata": {},
   "outputs": [
    {
     "data": {
      "image/png": "[encoded data removed]",
      "text/plain": [
       "<Figure size 432x288 with 1 Axes>"
      ]
     },
     "metadata": {},
     "output_type": "display_data"
    },
    {
     "data": {
      "image/png": "[encoded data removed]",
      "text/plain": [
       "<Figure size 432x288 with 1 Axes>"
      ]
     },
     "metadata": {},
     "output_type": "display_data"
    }
   ],
   "source": [
    "residuals_plot(pred_xgb, y_train, pred_test_xgb, y_test, \"XGBoost residuals\")\n",
    "linear_plot(pred_xgb, y_train, pred_test_xgb, y_test, \"XGBoost real values\")"
   ]
  },
  {
   "cell_type": "markdown",
   "id": "f4f3ba3d",
   "metadata": {},
   "source": [
    "## Predict test set"
   ]
  },
  {
   "cell_type": "code",
   "execution_count": 78,
   "id": "5b53bf90",
   "metadata": {
    "pycharm": {
     "name": "#%%\n"
    }
   },
   "outputs": [
    {
     "data": {
      "text/html": [
       "<div>\n",
       "<style scoped>\n",
       "    .dataframe tbody tr th:only-of-type {\n",
       "        vertical-align: middle;\n",
       "    }\n",
       "\n",
       "    .dataframe tbody tr th {\n",
       "        vertical-align: top;\n",
       "    }\n",
       "\n",
       "    .dataframe thead th {\n",
       "        text-align: right;\n",
       "    }\n",
       "</style>\n",
       "<table border=\"1\" class=\"dataframe\">\n",
       "  <thead>\n",
       "    <tr style=\"text-align: right;\">\n",
       "      <th></th>\n",
       "      <th>LotFrontage</th>\n",
       "      <th>LotArea</th>\n",
       "      <th>LotShape</th>\n",
       "      <th>LandSlope</th>\n",
       "      <th>OverallQual</th>\n",
       "      <th>OverallCond</th>\n",
       "      <th>MasVnrArea</th>\n",
       "      <th>ExterQual</th>\n",
       "      <th>BsmtQual</th>\n",
       "      <th>BsmtCond</th>\n",
       "      <th>...</th>\n",
       "      <th>MoSold_8</th>\n",
       "      <th>MoSold_9</th>\n",
       "      <th>YrSold_2007</th>\n",
       "      <th>YrSold_2008</th>\n",
       "      <th>YrSold_2009</th>\n",
       "      <th>SaleType_COD</th>\n",
       "      <th>SaleType_New</th>\n",
       "      <th>SaleCondition_Abnorml</th>\n",
       "      <th>SaleCondition_Normal</th>\n",
       "      <th>SalePrice</th>\n",
       "    </tr>\n",
       "  </thead>\n",
       "  <tbody>\n",
       "    <tr>\n",
       "      <th>0</th>\n",
       "      <td>22.544136</td>\n",
       "      <td>33.911281</td>\n",
       "      <td>1.0</td>\n",
       "      <td>3.0</td>\n",
       "      <td>7</td>\n",
       "      <td>3.036931</td>\n",
       "      <td>19.953123</td>\n",
       "      <td>4.0</td>\n",
       "      <td>4.0</td>\n",
       "      <td>3.0</td>\n",
       "      <td>...</td>\n",
       "      <td>0</td>\n",
       "      <td>0</td>\n",
       "      <td>0</td>\n",
       "      <td>1</td>\n",
       "      <td>0</td>\n",
       "      <td>0</td>\n",
       "      <td>0</td>\n",
       "      <td>0</td>\n",
       "      <td>1</td>\n",
       "      <td>207887.421875</td>\n",
       "    </tr>\n",
       "    <tr>\n",
       "      <th>1</th>\n",
       "      <td>26.025794</td>\n",
       "      <td>35.130490</td>\n",
       "      <td>1.0</td>\n",
       "      <td>3.0</td>\n",
       "      <td>6</td>\n",
       "      <td>4.241668</td>\n",
       "      <td>0.000000</td>\n",
       "      <td>3.0</td>\n",
       "      <td>4.0</td>\n",
       "      <td>3.0</td>\n",
       "      <td>...</td>\n",
       "      <td>0</td>\n",
       "      <td>0</td>\n",
       "      <td>1</td>\n",
       "      <td>0</td>\n",
       "      <td>0</td>\n",
       "      <td>0</td>\n",
       "      <td>0</td>\n",
       "      <td>0</td>\n",
       "      <td>1</td>\n",
       "      <td>178472.156250</td>\n",
       "    </tr>\n",
       "    <tr>\n",
       "      <th>2</th>\n",
       "      <td>23.260385</td>\n",
       "      <td>36.700764</td>\n",
       "      <td>2.0</td>\n",
       "      <td>3.0</td>\n",
       "      <td>7</td>\n",
       "      <td>3.036931</td>\n",
       "      <td>18.223314</td>\n",
       "      <td>4.0</td>\n",
       "      <td>4.0</td>\n",
       "      <td>3.0</td>\n",
       "      <td>...</td>\n",
       "      <td>0</td>\n",
       "      <td>1</td>\n",
       "      <td>0</td>\n",
       "      <td>1</td>\n",
       "      <td>0</td>\n",
       "      <td>0</td>\n",
       "      <td>0</td>\n",
       "      <td>0</td>\n",
       "      <td>1</td>\n",
       "      <td>223396.359375</td>\n",
       "    </tr>\n",
       "    <tr>\n",
       "      <th>3</th>\n",
       "      <td>21.325231</td>\n",
       "      <td>35.079833</td>\n",
       "      <td>2.0</td>\n",
       "      <td>3.0</td>\n",
       "      <td>7</td>\n",
       "      <td>3.036931</td>\n",
       "      <td>0.000000</td>\n",
       "      <td>3.0</td>\n",
       "      <td>3.0</td>\n",
       "      <td>4.0</td>\n",
       "      <td>...</td>\n",
       "      <td>0</td>\n",
       "      <td>0</td>\n",
       "      <td>0</td>\n",
       "      <td>0</td>\n",
       "      <td>0</td>\n",
       "      <td>0</td>\n",
       "      <td>0</td>\n",
       "      <td>1</td>\n",
       "      <td>0</td>\n",
       "      <td>170259.859375</td>\n",
       "    </tr>\n",
       "    <tr>\n",
       "      <th>4</th>\n",
       "      <td>26.915973</td>\n",
       "      <td>39.166300</td>\n",
       "      <td>2.0</td>\n",
       "      <td>3.0</td>\n",
       "      <td>8</td>\n",
       "      <td>3.036931</td>\n",
       "      <td>26.177215</td>\n",
       "      <td>4.0</td>\n",
       "      <td>4.0</td>\n",
       "      <td>3.0</td>\n",
       "      <td>...</td>\n",
       "      <td>0</td>\n",
       "      <td>0</td>\n",
       "      <td>0</td>\n",
       "      <td>1</td>\n",
       "      <td>0</td>\n",
       "      <td>0</td>\n",
       "      <td>0</td>\n",
       "      <td>0</td>\n",
       "      <td>1</td>\n",
       "      <td>323095.843750</td>\n",
       "    </tr>\n",
       "  </tbody>\n",
       "</table>\n",
       "<p>5 rows × 119 columns</p>\n",
       "</div>"
      ],
      "text/plain": [
       "   LotFrontage    LotArea  LotShape  LandSlope  OverallQual  OverallCond  \\\n",
       "0    22.544136  33.911281       1.0        3.0            7     3.036931   \n",
       "1    26.025794  35.130490       1.0        3.0            6     4.241668   \n",
       "2    23.260385  36.700764       2.0        3.0            7     3.036931   \n",
       "3    21.325231  35.079833       2.0        3.0            7     3.036931   \n",
       "4    26.915973  39.166300       2.0        3.0            8     3.036931   \n",
       "\n",
       "   MasVnrArea  ExterQual  BsmtQual  BsmtCond  ...  MoSold_8  MoSold_9  \\\n",
       "0   19.953123        4.0       4.0       3.0  ...         0         0   \n",
       "1    0.000000        3.0       4.0       3.0  ...         0         0   \n",
       "2   18.223314        4.0       4.0       3.0  ...         0         1   \n",
       "3    0.000000        3.0       3.0       4.0  ...         0         0   \n",
       "4   26.177215        4.0       4.0       3.0  ...         0         0   \n",
       "\n",
       "   YrSold_2007  YrSold_2008  YrSold_2009  SaleType_COD  SaleType_New  \\\n",
       "0            0            1            0             0             0   \n",
       "1            1            0            0             0             0   \n",
       "2            0            1            0             0             0   \n",
       "3            0            0            0             0             0   \n",
       "4            0            1            0             0             0   \n",
       "\n",
       "   SaleCondition_Abnorml  SaleCondition_Normal      SalePrice  \n",
       "0                      0                     1  207887.421875  \n",
       "1                      0                     1  178472.156250  \n",
       "2                      0                     1  223396.359375  \n",
       "3                      1                     0  170259.859375  \n",
       "4                      0                     1  323095.843750  \n",
       "\n",
       "[5 rows x 119 columns]"
      ]
     },
     "execution_count": 78,
     "metadata": {},
     "output_type": "execute_result"
    }
   ],
   "source": [
    "pred = np.exp(xgb.predict(test))\n",
    "\n",
    "results = pd.concat([test, pd.DataFrame({\"SalePrice\": pred})], axis=1)\n",
    "results.head()"
   ]
  },
  {
   "cell_type": "code",
   "execution_count": 79,
   "id": "b13b9b72",
   "metadata": {
    "pycharm": {
     "name": "#%%\n"
    }
   },
   "outputs": [],
   "source": [
    "q1 = results['SalePrice'].quantile(0.005)\n",
    "q2 = results['SalePrice'].quantile(0.995)\n",
    "\n",
    "results['SalePrice'] = results['SalePrice'].apply(lambda x: x if x > q1 else x*0.77)\n",
    "results['SalePrice'] = results['SalePrice'].apply(lambda x: x if x < q2 else x*1.1)"
   ]
  },
  {
   "cell_type": "code",
   "execution_count": 81,
   "id": "4023c041",
   "metadata": {
    "pycharm": {
     "name": "#%%\n"
    }
   },
   "outputs": [
    {
     "name": "stdout",
     "output_type": "stream",
     "text": [
      "162494.3984375\n",
      "178884.95185683324\n",
      "476472.94062500005\n"
     ]
    }
   ],
   "source": [
    "print(results['SalePrice'].median())\n",
    "print(results['SalePrice'].mean())\n",
    "print(results['SalePrice'].max())"
   ]
  },
  {
   "cell_type": "code",
   "execution_count": null,
   "id": "05b68d07",
   "metadata": {
    "pycharm": {
     "name": "#%%\n"
    }
   },
   "outputs": [],
   "source": [
    "%reset -f"
   ]
  }
 ],
 "metadata": {
  "kernelspec": {
   "display_name": "Python 3 (ipykernel)",
   "language": "python",
   "name": "python3"
  },
  "language_info": {
   "codemirror_mode": {
    "name": "ipython",
    "version": 3
   },
   "file_extension": ".py",
   "mimetype": "text/x-python",
   "name": "python",
   "nbconvert_exporter": "python",
   "pygments_lexer": "ipython3",
   "version": "3.7.3"
  }
 },
 "nbformat": 4,
 "nbformat_minor": 5
}
